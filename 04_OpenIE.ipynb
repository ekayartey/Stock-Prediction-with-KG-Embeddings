{
 "cells": [
  {
   "cell_type": "markdown",
   "metadata": {},
   "source": [
    "### Open Information Extraction using Rule-Based methods"
   ]
  },
  {
   "cell_type": "code",
   "execution_count": 2,
   "metadata": {},
   "outputs": [],
   "source": [
    "import pandas as pd\n",
    "import numpy as np\n",
    "import os\n",
    "import re\n",
    "import spacy\n",
    "from spacy.lang.en import English\n",
    "from spacy import displacy\n",
    "import networkx as nx\n",
    "import matplotlib.pyplot as plt"
   ]
  },
  {
   "cell_type": "code",
   "execution_count": 3,
   "metadata": {},
   "outputs": [],
   "source": [
    "# load spaCy model\n",
    "nlp = spacy.load(\"en_core_web_lg\")"
   ]
  },
  {
   "cell_type": "code",
   "execution_count": 4,
   "metadata": {},
   "outputs": [],
   "source": [
    "def getRelationTriple(doc):\n",
    "    \n",
    "    head = ''\n",
    "    relation = ''\n",
    "    tail = ''\n",
    "    sphrase = ''\n",
    "    ophrase = ''\n",
    "    \n",
    "    # iterate over tokens\n",
    "    for i,token in enumerate(doc): \n",
    "        # If word is a subject noun, proper noun, pronoun\n",
    "        if (token.dep_ in ['nsubjpass','nsubj']) and (token.pos_ in ['NOUN','PROPN','PRON']):\n",
    "            #iterate over the children nodes\n",
    "            for tok in token.children:\n",
    "                # If word is a adjective or has a compound dependency\n",
    "                if (tok.pos_ in ['ADJ']) or (tok.dep_ in ['compound']):\n",
    "                    sphrase += tok.text + ' '\n",
    "            # Append to the head entity\n",
    "            if len(sphrase)!=0:\n",
    "                head += sphrase + token.text \n",
    "            else:\n",
    "                head += token.text \n",
    "                \n",
    "            \n",
    "        # Predict is the root.\n",
    "        if (token.dep_ in ['ROOT','agent','attr','prep']) and (token.pos_ in ['VERB','ADP','NOUN', 'AUX', 'SCONJ']):\n",
    "            relation += ' '+ token.lemma_\n",
    "            \n",
    "\n",
    "        # If word is an object noun, proper noun, pronoun\n",
    "        if (token.dep_ in ['pobj', 'dobj']) and (token.pos_ in ['NOUN','PROPN','PRON']):           \n",
    "            #iterate over the children nodes\n",
    "            for tok in token.children:\n",
    "                # If word is a adjective or has a compound dependency\n",
    "                if (tok.pos_ in ['ADJ', 'NUM']) or (tok.dep_ in ['compound','nummod']):\n",
    "                    ophrase +=tok.text + ' '\n",
    "                # Append to the tail entity\n",
    "            if len(ophrase)!=0:\n",
    "                tail += ophrase + token.text\n",
    "            else:\n",
    "                tail += ' '+token.text        \n",
    "            \n",
    "    return (head.strip(), relation.strip(), tail.strip())"
   ]
  },
  {
   "cell_type": "code",
   "execution_count": 6,
   "metadata": {},
   "outputs": [],
   "source": [
    "def getConciseTriple(doc):\n",
    "    \n",
    "    head = ''\n",
    "    relation = ''\n",
    "    tail = ''\n",
    "    sphrase = ''\n",
    "    ophrase = ''\n",
    "    \n",
    "    # iterate over tokens\n",
    "    for i,token in enumerate(doc): \n",
    "        # If word is a subject noun, proper noun, pronoun\n",
    "        if (token.dep_ in ['nsubjpass','nsubj']) and (token.pos_ in ['NOUN','PROPN','PRON']):\n",
    "            #iterate over the children nodes\n",
    "            for tok in token.children:\n",
    "                # If word is a adjective or has a compound dependency\n",
    "                if (tok.dep_ in ['compound']):\n",
    "                    sphrase += tok.text + ' '\n",
    "            # Append to the head entity\n",
    "            if len(sphrase)!=0:\n",
    "                head += sphrase + token.text \n",
    "            else:\n",
    "                head += token.text \n",
    "                \n",
    "            \n",
    "        # Predict is the root.\n",
    "        if (token.dep_ in ['ROOT','agent','attr','prep']) and (token.pos_ in ['VERB','NOUN', 'AUX', 'SCONJ']):\n",
    "            relation += ' '+ token.lemma_\n",
    "            \n",
    "\n",
    "        # If word is an object noun, proper noun, pronoun\n",
    "        if (token.dep_ in ['pobj', 'dobj']) and (token.pos_ in ['NOUN','PROPN','PRON']):           \n",
    "            #iterate over the children nodes\n",
    "            for tok in token.children:\n",
    "                # If word is a adjective or has a compound dependency\n",
    "                if (tok.dep_ in ['compound']):\n",
    "                    ophrase +=tok.text + ' '\n",
    "                # Append to the tail entity\n",
    "            if len(ophrase)!=0:\n",
    "                tail += ophrase + token.text\n",
    "            else:\n",
    "                tail += ' '+token.text        \n",
    "            \n",
    "    return (head.strip(), relation.strip(), tail.strip())"
   ]
  },
  {
   "cell_type": "code",
   "execution_count": 7,
   "metadata": {},
   "outputs": [
    {
     "name": "stdout",
     "output_type": "stream",
     "text": [
      "('Microsoft', 'buy', 'maker trig')\n",
      "\n",
      "[('Microsoft', 'ORG'), ('Israeli', 'NORP'), ('N-trig', 'ORG')]\n",
      "\n"
     ]
    }
   ],
   "source": [
    "#text = \"London is the capital and largest city of England and the United Kingdom.\" \n",
    "#text = \"Tableau was recently acquired by Salesforce.\"\n",
    "#text = \"Salesforce recently acquired Tableau.\" \n",
    "#text = \"Wall Street is extending tech-led selloff.\"\n",
    "#text = \"U.S. Supplier aim at Shanghai regulator.\"\n",
    "text = \"Microsoft buys Israeli digital pen maker N-trig.\"\n",
    "\n",
    "doc = nlp(text)\n",
    "\n",
    "print(getConciseTriple(doc))\n",
    "print('')\n",
    "print([(e.text, e.label_) for e in doc.ents])\n",
    "print('')\n",
    "#print([str(e.text) for e in doc.ents])\n",
    "#print('')\n",
    "#print(' '.join([str(e.text) for e in doc.ents]))"
   ]
  },
  {
   "cell_type": "code",
   "execution_count": 26,
   "metadata": {
    "scrolled": true
   },
   "outputs": [
    {
     "name": "stdout",
     "output_type": "stream",
     "text": [
      "Gates ----> compound ---> PROPN\n",
      "Foundation ----> nsubj ---> PROPN\n",
      "will ----> aux ---> VERB\n",
      "eradicate ----> ROOT ---> VERB\n",
      "dideases ----> dobj ---> NOUN\n",
      ". ----> punct ---> PUNCT\n"
     ]
    }
   ],
   "source": [
    "for token in doc:\n",
    "    print(token.text, \"---->\", token.dep_, \"--->\", token.pos_)"
   ]
  },
  {
   "cell_type": "markdown",
   "metadata": {},
   "source": [
    "#### Performing additional pre-processing tasks"
   ]
  },
  {
   "cell_type": "code",
   "execution_count": 68,
   "metadata": {},
   "outputs": [],
   "source": [
    "msft_unique = pd.read_csv('msft_unique_txt.csv')\n",
    "#msft_unique.drop(msft_unique.columns[msft_unique.columns.str.contains('unnamed',case = False)],axis = 1, inplace = True)\n",
    "msft_unique.set_index(['Date'], inplace=True)\n",
    "#msft_unique.reset_index(drop=True)"
   ]
  },
  {
   "cell_type": "code",
   "execution_count": 69,
   "metadata": {
    "scrolled": false
   },
   "outputs": [
    {
     "data": {
      "text/html": [
       "<div>\n",
       "<style scoped>\n",
       "    .dataframe tbody tr th:only-of-type {\n",
       "        vertical-align: middle;\n",
       "    }\n",
       "\n",
       "    .dataframe tbody tr th {\n",
       "        vertical-align: top;\n",
       "    }\n",
       "\n",
       "    .dataframe thead th {\n",
       "        text-align: right;\n",
       "    }\n",
       "</style>\n",
       "<table border=\"1\" class=\"dataframe\">\n",
       "  <thead>\n",
       "    <tr style=\"text-align: right;\">\n",
       "      <th></th>\n",
       "      <th>News</th>\n",
       "    </tr>\n",
       "    <tr>\n",
       "      <th>Date</th>\n",
       "      <th></th>\n",
       "    </tr>\n",
       "  </thead>\n",
       "  <tbody>\n",
       "    <tr>\n",
       "      <th>2015-01-02</th>\n",
       "      <td>Code update has crashed Bing search engine.</td>\n",
       "    </tr>\n",
       "    <tr>\n",
       "      <th>2015-01-06</th>\n",
       "      <td>Sony praises employees.</td>\n",
       "    </tr>\n",
       "    <tr>\n",
       "      <th>2015-01-07</th>\n",
       "      <td>OSI Group LLC aim at FDA.</td>\n",
       "    </tr>\n",
       "    <tr>\n",
       "      <th>2015-01-13</th>\n",
       "      <td>United States Senate are seeking foreign workers.</td>\n",
       "    </tr>\n",
       "    <tr>\n",
       "      <th>2015-01-16</th>\n",
       "      <td>Wet Seal Inc. has filed for bankruptcy.</td>\n",
       "    </tr>\n",
       "  </tbody>\n",
       "</table>\n",
       "</div>"
      ],
      "text/plain": [
       "                                                         News\n",
       "Date                                                         \n",
       "2015-01-02        Code update has crashed Bing search engine.\n",
       "2015-01-06                            Sony praises employees.\n",
       "2015-01-07                          OSI Group LLC aim at FDA.\n",
       "2015-01-13  United States Senate are seeking foreign workers.\n",
       "2015-01-16            Wet Seal Inc. has filed for bankruptcy."
      ]
     },
     "execution_count": 69,
     "metadata": {},
     "output_type": "execute_result"
    }
   ],
   "source": [
    "msft_unique.head(5)"
   ]
  },
  {
   "cell_type": "code",
   "execution_count": 70,
   "metadata": {},
   "outputs": [],
   "source": [
    "# Remove new line characters\n",
    "msft_unique['News'] = msft_unique['News'].apply(lambda x: re.sub('\\n ','',str(x)))\n",
    "msft_unique['News'] = msft_unique['News'].apply(lambda x: re.sub('\\n ',' ',str(x)))\n",
    "\n",
    "#Remove apostrophes\n",
    "msft_unique['News'] = msft_unique['News'].apply(lambda x: re.sub(\"'s\",'',str(x)))\n",
    "\n",
    "# Remove hyphens\n",
    "msft_unique['News'] = msft_unique['News'].apply(lambda x: re.sub(\"-\",'',str(x)))\n",
    "msft_unique['News'] = msft_unique['News'].apply(lambda x: re.sub(\"— \",'',str(x)))\n",
    "msft_unique['News'] = msft_unique['News'].apply(lambda x: re.sub(\"—\",' ',str(x)))\n",
    "\n",
    "# Remove quotation marks\n",
    "msft_unique['News'] = msft_unique['News'].apply(lambda x: re.sub('\\\"','',str(x)))\n",
    "\n",
    "# Remove any reference to outside text\n",
    "msft_unique['News'] = msft_unique['News'].apply(lambda x: re.sub(\"[\\(\\[].*?[\\)\\]]\", \"\", str(x)))\n",
    "\n",
    "#msft_unique['News'] = msft_unique['News'].apply(lambda x: x.replace('BRIEF-', ''))"
   ]
  },
  {
   "cell_type": "code",
   "execution_count": 71,
   "metadata": {},
   "outputs": [
    {
     "data": {
      "text/html": [
       "<div>\n",
       "<style scoped>\n",
       "    .dataframe tbody tr th:only-of-type {\n",
       "        vertical-align: middle;\n",
       "    }\n",
       "\n",
       "    .dataframe tbody tr th {\n",
       "        vertical-align: top;\n",
       "    }\n",
       "\n",
       "    .dataframe thead th {\n",
       "        text-align: right;\n",
       "    }\n",
       "</style>\n",
       "<table border=\"1\" class=\"dataframe\">\n",
       "  <thead>\n",
       "    <tr style=\"text-align: right;\">\n",
       "      <th></th>\n",
       "      <th>News</th>\n",
       "    </tr>\n",
       "    <tr>\n",
       "      <th>Date</th>\n",
       "      <th></th>\n",
       "    </tr>\n",
       "  </thead>\n",
       "  <tbody>\n",
       "    <tr>\n",
       "      <th>2018-12-03</th>\n",
       "      <td>Washington Supreme Court revives Microsoft law...</td>\n",
       "    </tr>\n",
       "    <tr>\n",
       "      <th>2018-12-06</th>\n",
       "      <td>Microsoft web browser is introduced for Macint...</td>\n",
       "    </tr>\n",
       "    <tr>\n",
       "      <th>2018-12-07</th>\n",
       "      <td>Microsoft adopts Face Recognition Technology E...</td>\n",
       "    </tr>\n",
       "    <tr>\n",
       "      <th>2018-12-23</th>\n",
       "      <td>Microsoft has released Font Makker app.</td>\n",
       "    </tr>\n",
       "    <tr>\n",
       "      <th>2018-12-31</th>\n",
       "      <td>Microsoft has closed as the top public company.</td>\n",
       "    </tr>\n",
       "  </tbody>\n",
       "</table>\n",
       "</div>"
      ],
      "text/plain": [
       "                                                         News\n",
       "Date                                                         \n",
       "2018-12-03  Washington Supreme Court revives Microsoft law...\n",
       "2018-12-06  Microsoft web browser is introduced for Macint...\n",
       "2018-12-07  Microsoft adopts Face Recognition Technology E...\n",
       "2018-12-23            Microsoft has released Font Makker app.\n",
       "2018-12-31    Microsoft has closed as the top public company."
      ]
     },
     "execution_count": 71,
     "metadata": {},
     "output_type": "execute_result"
    }
   ],
   "source": [
    "msft_unique.tail(5)"
   ]
  },
  {
   "cell_type": "markdown",
   "metadata": {},
   "source": [
    "#### Perform Open Information Extraction"
   ]
  },
  {
   "cell_type": "code",
   "execution_count": 72,
   "metadata": {},
   "outputs": [],
   "source": [
    "msft_openie = msft_unique.copy()"
   ]
  },
  {
   "cell_type": "code",
   "execution_count": 73,
   "metadata": {},
   "outputs": [],
   "source": [
    "# Create tokens for each news headline\n",
    "msft_openie['doc'] = msft_openie['News'].apply(lambda x: nlp(x))"
   ]
  },
  {
   "cell_type": "code",
   "execution_count": 74,
   "metadata": {},
   "outputs": [],
   "source": [
    "# Extract triples\n",
    "# msft_openie['triple'] = msft_openie['doc'].apply(lambda x: getRelationTriple(x))"
   ]
  },
  {
   "cell_type": "code",
   "execution_count": 75,
   "metadata": {},
   "outputs": [],
   "source": [
    "# Extract concise triples\n",
    "msft_openie['Ctriple'] = msft_openie['doc'].apply(lambda x: getConciseTriple(x))"
   ]
  },
  {
   "cell_type": "code",
   "execution_count": 76,
   "metadata": {},
   "outputs": [],
   "source": [
    "# Get Head entity \n",
    "msft_openie['Head'] =  [tuple[0] for tuple in msft_openie['Ctriple']]\n",
    "\n",
    "# Get relation\n",
    "msft_openie['Relation'] =  [tuple[1] for tuple in msft_openie['Ctriple']]\n",
    "\n",
    "# Get relation\n",
    "msft_openie['Tail'] =  [tuple[2] for tuple in msft_openie['Ctriple']]"
   ]
  },
  {
   "cell_type": "code",
   "execution_count": 77,
   "metadata": {},
   "outputs": [
    {
     "data": {
      "text/html": [
       "<div>\n",
       "<style scoped>\n",
       "    .dataframe tbody tr th:only-of-type {\n",
       "        vertical-align: middle;\n",
       "    }\n",
       "\n",
       "    .dataframe tbody tr th {\n",
       "        vertical-align: top;\n",
       "    }\n",
       "\n",
       "    .dataframe thead th {\n",
       "        text-align: right;\n",
       "    }\n",
       "</style>\n",
       "<table border=\"1\" class=\"dataframe\">\n",
       "  <thead>\n",
       "    <tr style=\"text-align: right;\">\n",
       "      <th></th>\n",
       "      <th>News</th>\n",
       "      <th>doc</th>\n",
       "      <th>Ctriple</th>\n",
       "      <th>Head</th>\n",
       "      <th>Relation</th>\n",
       "      <th>Tail</th>\n",
       "    </tr>\n",
       "    <tr>\n",
       "      <th>Date</th>\n",
       "      <th></th>\n",
       "      <th></th>\n",
       "      <th></th>\n",
       "      <th></th>\n",
       "      <th></th>\n",
       "      <th></th>\n",
       "    </tr>\n",
       "  </thead>\n",
       "  <tbody>\n",
       "    <tr>\n",
       "      <th>2015-01-02</th>\n",
       "      <td>Code update has crashed Bing search engine.</td>\n",
       "      <td>(Code, update, has, crashed, Bing, search, eng...</td>\n",
       "      <td>(Code update, crash, Bing search engine)</td>\n",
       "      <td>Code update</td>\n",
       "      <td>crash</td>\n",
       "      <td>Bing search engine</td>\n",
       "    </tr>\n",
       "    <tr>\n",
       "      <th>2015-01-06</th>\n",
       "      <td>Sony praises employees.</td>\n",
       "      <td>(Sony, praises, employees, .)</td>\n",
       "      <td>(Sony, praise, employees)</td>\n",
       "      <td>Sony</td>\n",
       "      <td>praise</td>\n",
       "      <td>employees</td>\n",
       "    </tr>\n",
       "    <tr>\n",
       "      <th>2015-01-07</th>\n",
       "      <td>OSI Group LLC aim at FDA.</td>\n",
       "      <td>(OSI, Group, LLC, aim, at, FDA, .)</td>\n",
       "      <td>(OSI Group LLC, aim, FDA)</td>\n",
       "      <td>OSI Group LLC</td>\n",
       "      <td>aim</td>\n",
       "      <td>FDA</td>\n",
       "    </tr>\n",
       "    <tr>\n",
       "      <th>2015-01-13</th>\n",
       "      <td>United States Senate are seeking foreign workers.</td>\n",
       "      <td>(United, States, Senate, are, seeking, foreign...</td>\n",
       "      <td>(States Senate, seek, workers)</td>\n",
       "      <td>States Senate</td>\n",
       "      <td>seek</td>\n",
       "      <td>workers</td>\n",
       "    </tr>\n",
       "    <tr>\n",
       "      <th>2015-01-16</th>\n",
       "      <td>Wet Seal Inc. has filed for bankruptcy.</td>\n",
       "      <td>(Wet, Seal, Inc., has, filed, for, bankruptcy, .)</td>\n",
       "      <td>(Wet Seal Inc., file, bankruptcy)</td>\n",
       "      <td>Wet Seal Inc.</td>\n",
       "      <td>file</td>\n",
       "      <td>bankruptcy</td>\n",
       "    </tr>\n",
       "  </tbody>\n",
       "</table>\n",
       "</div>"
      ],
      "text/plain": [
       "                                                         News  \\\n",
       "Date                                                            \n",
       "2015-01-02        Code update has crashed Bing search engine.   \n",
       "2015-01-06                            Sony praises employees.   \n",
       "2015-01-07                          OSI Group LLC aim at FDA.   \n",
       "2015-01-13  United States Senate are seeking foreign workers.   \n",
       "2015-01-16            Wet Seal Inc. has filed for bankruptcy.   \n",
       "\n",
       "                                                          doc  \\\n",
       "Date                                                            \n",
       "2015-01-02  (Code, update, has, crashed, Bing, search, eng...   \n",
       "2015-01-06                      (Sony, praises, employees, .)   \n",
       "2015-01-07                 (OSI, Group, LLC, aim, at, FDA, .)   \n",
       "2015-01-13  (United, States, Senate, are, seeking, foreign...   \n",
       "2015-01-16  (Wet, Seal, Inc., has, filed, for, bankruptcy, .)   \n",
       "\n",
       "                                             Ctriple           Head Relation  \\\n",
       "Date                                                                           \n",
       "2015-01-02  (Code update, crash, Bing search engine)    Code update    crash   \n",
       "2015-01-06                 (Sony, praise, employees)           Sony   praise   \n",
       "2015-01-07                 (OSI Group LLC, aim, FDA)  OSI Group LLC      aim   \n",
       "2015-01-13            (States Senate, seek, workers)  States Senate     seek   \n",
       "2015-01-16         (Wet Seal Inc., file, bankruptcy)  Wet Seal Inc.     file   \n",
       "\n",
       "                          Tail  \n",
       "Date                            \n",
       "2015-01-02  Bing search engine  \n",
       "2015-01-06           employees  \n",
       "2015-01-07                 FDA  \n",
       "2015-01-13             workers  \n",
       "2015-01-16          bankruptcy  "
      ]
     },
     "execution_count": 77,
     "metadata": {},
     "output_type": "execute_result"
    }
   ],
   "source": [
    "msft_openie.head(5)"
   ]
  },
  {
   "cell_type": "code",
   "execution_count": 78,
   "metadata": {},
   "outputs": [],
   "source": [
    "# msft_openie.to_csv('./msft_triple.csv')"
   ]
  },
  {
   "cell_type": "markdown",
   "metadata": {},
   "source": [
    "#### Named Entity Recognition "
   ]
  },
  {
   "cell_type": "code",
   "execution_count": 79,
   "metadata": {},
   "outputs": [],
   "source": [
    "def getText(text):    \n",
    "    return (' '.join([str(e.text) for e in nlp(text).ents]))\n",
    "#print(' '.join([str(e.text) for e in doc.ents]))\n",
    "\n",
    "def getLabel(text):    \n",
    "    return [e.label_ for e in nlp(text).ents]"
   ]
  },
  {
   "cell_type": "code",
   "execution_count": 80,
   "metadata": {},
   "outputs": [],
   "source": [
    "msft_openie['Head_Text'] = msft_openie['Head'].apply(lambda x: getText(x))"
   ]
  },
  {
   "cell_type": "code",
   "execution_count": 81,
   "metadata": {},
   "outputs": [],
   "source": [
    "msft_openie['Head_Label'] = msft_openie['Head'].apply(lambda x: getLabel(x))"
   ]
  },
  {
   "cell_type": "code",
   "execution_count": 82,
   "metadata": {},
   "outputs": [],
   "source": [
    "msft_openie['Tail_Text'] = msft_openie['Tail'].apply(lambda x: getText(x))"
   ]
  },
  {
   "cell_type": "code",
   "execution_count": 83,
   "metadata": {},
   "outputs": [],
   "source": [
    "msft_openie['Tail_Label'] = msft_openie['Tail'].apply(lambda x: getLabel(x))"
   ]
  },
  {
   "cell_type": "code",
   "execution_count": 84,
   "metadata": {},
   "outputs": [
    {
     "data": {
      "text/html": [
       "<div>\n",
       "<style scoped>\n",
       "    .dataframe tbody tr th:only-of-type {\n",
       "        vertical-align: middle;\n",
       "    }\n",
       "\n",
       "    .dataframe tbody tr th {\n",
       "        vertical-align: top;\n",
       "    }\n",
       "\n",
       "    .dataframe thead th {\n",
       "        text-align: right;\n",
       "    }\n",
       "</style>\n",
       "<table border=\"1\" class=\"dataframe\">\n",
       "  <thead>\n",
       "    <tr style=\"text-align: right;\">\n",
       "      <th></th>\n",
       "      <th>News</th>\n",
       "      <th>doc</th>\n",
       "      <th>Ctriple</th>\n",
       "      <th>Head</th>\n",
       "      <th>Relation</th>\n",
       "      <th>Tail</th>\n",
       "      <th>Head_Text</th>\n",
       "      <th>Head_Label</th>\n",
       "      <th>Tail_Text</th>\n",
       "      <th>Tail_Label</th>\n",
       "    </tr>\n",
       "    <tr>\n",
       "      <th>Date</th>\n",
       "      <th></th>\n",
       "      <th></th>\n",
       "      <th></th>\n",
       "      <th></th>\n",
       "      <th></th>\n",
       "      <th></th>\n",
       "      <th></th>\n",
       "      <th></th>\n",
       "      <th></th>\n",
       "      <th></th>\n",
       "    </tr>\n",
       "  </thead>\n",
       "  <tbody>\n",
       "    <tr>\n",
       "      <th>2015-01-02</th>\n",
       "      <td>Code update has crashed Bing search engine.</td>\n",
       "      <td>(Code, update, has, crashed, Bing, search, eng...</td>\n",
       "      <td>(Code update, crash, Bing search engine)</td>\n",
       "      <td>Code update</td>\n",
       "      <td>crash</td>\n",
       "      <td>Bing search engine</td>\n",
       "      <td></td>\n",
       "      <td>[]</td>\n",
       "      <td>Bing</td>\n",
       "      <td>[ORG]</td>\n",
       "    </tr>\n",
       "    <tr>\n",
       "      <th>2015-01-06</th>\n",
       "      <td>Sony praises employees.</td>\n",
       "      <td>(Sony, praises, employees, .)</td>\n",
       "      <td>(Sony, praise, employees)</td>\n",
       "      <td>Sony</td>\n",
       "      <td>praise</td>\n",
       "      <td>employees</td>\n",
       "      <td>Sony</td>\n",
       "      <td>[ORG]</td>\n",
       "      <td></td>\n",
       "      <td>[]</td>\n",
       "    </tr>\n",
       "    <tr>\n",
       "      <th>2015-01-07</th>\n",
       "      <td>OSI Group LLC aim at FDA.</td>\n",
       "      <td>(OSI, Group, LLC, aim, at, FDA, .)</td>\n",
       "      <td>(OSI Group LLC, aim, FDA)</td>\n",
       "      <td>OSI Group LLC</td>\n",
       "      <td>aim</td>\n",
       "      <td>FDA</td>\n",
       "      <td>OSI Group LLC</td>\n",
       "      <td>[ORG]</td>\n",
       "      <td>FDA</td>\n",
       "      <td>[ORG]</td>\n",
       "    </tr>\n",
       "    <tr>\n",
       "      <th>2015-01-13</th>\n",
       "      <td>United States Senate are seeking foreign workers.</td>\n",
       "      <td>(United, States, Senate, are, seeking, foreign...</td>\n",
       "      <td>(States Senate, seek, workers)</td>\n",
       "      <td>States Senate</td>\n",
       "      <td>seek</td>\n",
       "      <td>workers</td>\n",
       "      <td>Senate</td>\n",
       "      <td>[ORG]</td>\n",
       "      <td></td>\n",
       "      <td>[]</td>\n",
       "    </tr>\n",
       "    <tr>\n",
       "      <th>2015-01-16</th>\n",
       "      <td>Wet Seal Inc. has filed for bankruptcy.</td>\n",
       "      <td>(Wet, Seal, Inc., has, filed, for, bankruptcy, .)</td>\n",
       "      <td>(Wet Seal Inc., file, bankruptcy)</td>\n",
       "      <td>Wet Seal Inc.</td>\n",
       "      <td>file</td>\n",
       "      <td>bankruptcy</td>\n",
       "      <td>Wet Seal Inc.</td>\n",
       "      <td>[ORG]</td>\n",
       "      <td></td>\n",
       "      <td>[]</td>\n",
       "    </tr>\n",
       "  </tbody>\n",
       "</table>\n",
       "</div>"
      ],
      "text/plain": [
       "                                                         News  \\\n",
       "Date                                                            \n",
       "2015-01-02        Code update has crashed Bing search engine.   \n",
       "2015-01-06                            Sony praises employees.   \n",
       "2015-01-07                          OSI Group LLC aim at FDA.   \n",
       "2015-01-13  United States Senate are seeking foreign workers.   \n",
       "2015-01-16            Wet Seal Inc. has filed for bankruptcy.   \n",
       "\n",
       "                                                          doc  \\\n",
       "Date                                                            \n",
       "2015-01-02  (Code, update, has, crashed, Bing, search, eng...   \n",
       "2015-01-06                      (Sony, praises, employees, .)   \n",
       "2015-01-07                 (OSI, Group, LLC, aim, at, FDA, .)   \n",
       "2015-01-13  (United, States, Senate, are, seeking, foreign...   \n",
       "2015-01-16  (Wet, Seal, Inc., has, filed, for, bankruptcy, .)   \n",
       "\n",
       "                                             Ctriple           Head Relation  \\\n",
       "Date                                                                           \n",
       "2015-01-02  (Code update, crash, Bing search engine)    Code update    crash   \n",
       "2015-01-06                 (Sony, praise, employees)           Sony   praise   \n",
       "2015-01-07                 (OSI Group LLC, aim, FDA)  OSI Group LLC      aim   \n",
       "2015-01-13            (States Senate, seek, workers)  States Senate     seek   \n",
       "2015-01-16         (Wet Seal Inc., file, bankruptcy)  Wet Seal Inc.     file   \n",
       "\n",
       "                          Tail      Head_Text Head_Label Tail_Text Tail_Label  \n",
       "Date                                                                           \n",
       "2015-01-02  Bing search engine                        []      Bing      [ORG]  \n",
       "2015-01-06           employees           Sony      [ORG]                   []  \n",
       "2015-01-07                 FDA  OSI Group LLC      [ORG]       FDA      [ORG]  \n",
       "2015-01-13             workers         Senate      [ORG]                   []  \n",
       "2015-01-16          bankruptcy  Wet Seal Inc.      [ORG]                   []  "
      ]
     },
     "execution_count": 84,
     "metadata": {},
     "output_type": "execute_result"
    }
   ],
   "source": [
    "msft_openie.head(5)"
   ]
  },
  {
   "cell_type": "code",
   "execution_count": 86,
   "metadata": {},
   "outputs": [],
   "source": [
    "msft_openie.to_csv('./msft_triple.csv')"
   ]
  },
  {
   "cell_type": "markdown",
   "metadata": {},
   "source": [
    "#### Entity Linking: Getting Wikidata QCode for Entities"
   ]
  },
  {
   "cell_type": "code",
   "execution_count": null,
   "metadata": {},
   "outputs": [],
   "source": []
  }
 ],
 "metadata": {
  "kernelspec": {
   "display_name": "Python 3",
   "language": "python",
   "name": "python3"
  },
  "language_info": {
   "codemirror_mode": {
    "name": "ipython",
    "version": 3
   },
   "file_extension": ".py",
   "mimetype": "text/x-python",
   "name": "python",
   "nbconvert_exporter": "python",
   "pygments_lexer": "ipython3",
   "version": "3.8.3"
  }
 },
 "nbformat": 4,
 "nbformat_minor": 4
}
