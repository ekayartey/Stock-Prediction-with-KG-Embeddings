{
 "cells": [
  {
   "cell_type": "markdown",
   "metadata": {},
   "source": [
    "### KGML Model code adopted to generate KG embeddings"
   ]
  },
  {
   "cell_type": "code",
   "execution_count": 69,
   "metadata": {},
   "outputs": [],
   "source": [
    "import os\n",
    "import sys\n",
    "import time\n",
    "import numpy as np\n",
    "import pandas as pd\n",
    "from sklearn.metrics import accuracy_score, auc, roc_auc_score, precision_score, recall_score\n",
    "import matplotlib.pyplot as plt\n",
    "# import tensorflow as tf\n",
    "#import keras_metrics as km\n",
    "\n",
    "\n",
    "#Keras import\n",
    "from tensorflow.keras.models import Model, Sequential, load_model\n",
    "from tensorflow.keras.layers import Dropout, Dense, Input, Concatenate, Multiply, Embedding, Activation, Reshape\n",
    "from tensorflow.keras import backend as K\n",
    "from tensorflow.keras.callbacks import LearningRateScheduler\n",
    "from tensorflow.keras.constraints import unit_norm\n",
    "from tensorflow.keras.initializers import RandomUniform\n",
    "from sklearn.decomposition import PCA"
   ]
  },
  {
   "cell_type": "code",
   "execution_count": 30,
   "metadata": {},
   "outputs": [],
   "source": [
    "data_path = \"KGE\"\n",
    "dim1 = 20\n",
    "dim2 = 20\n",
    "alpha = 0"
   ]
  },
  {
   "cell_type": "code",
   "execution_count": 31,
   "metadata": {},
   "outputs": [],
   "source": [
    "def read_ids(path):\n",
    "    ids = {}\n",
    "    \n",
    "    with open(path) as file:\n",
    "        for line in file:\n",
    "            line = line.split(\"\\t\")\n",
    "            ids.update({line[0]:int(line[1])})\n",
    "    print(path+\"\\t\"+ str(len(ids)))\n",
    "    return ids"
   ]
  },
  {
   "cell_type": "code",
   "execution_count": 32,
   "metadata": {},
   "outputs": [],
   "source": [
    "def read_triplets(path, e_id, r_id):\n",
    "    s_data = []\n",
    "    o_data = []\n",
    "    p_data = []\n",
    "    \n",
    "    with open(path) as file:\n",
    "        for line in file:\n",
    "            line = line.replace('\\n', '').split(\"\\t\")\n",
    "            s_data.append( e_id[line[0]] )\n",
    "            o_data.append( e_id[line[1]] )\n",
    "            p_data.append( r_id[line[2]] )\n",
    "            \n",
    "    print(path+\"\\t\"+ str(len(s_data)))\n",
    "    return np.array(s_data),np.array(o_data),np.array(p_data)"
   ]
  },
  {
   "cell_type": "code",
   "execution_count": 61,
   "metadata": {},
   "outputs": [
    {
     "name": "stdout",
     "output_type": "stream",
     "text": [
      "data/KGE/entity2id.txt\t553\n",
      "data/KGE/relation2id.txt\t77\n",
      "data/KGE/test.txt\t132\n",
      "data/KGE/train.txt\t525\n",
      "data/KGE/kgc.txt\t657\n"
     ]
    }
   ],
   "source": [
    "e_id = read_ids(\"data/\"+data_path+\"/entity2id.txt\")\n",
    "r_id = read_ids(\"data/\"+data_path+\"/relation2id.txt\")\n",
    "s_test,o_test,p_test = read_triplets(\"data/\"+data_path+\"/test.txt\", e_id, r_id)\n",
    "s_train,o_train,p_train = read_triplets(\"data/\"+data_path+\"/train.txt\", e_id, r_id)\n",
    "#s_valid,o_valid,p_valid = read_triplets(\"data/\"+data_path+\"/valid.txt\", e_id, r_id)\n",
    "s_kgc,o_kgc,p_kgc = read_triplets(\"data/\"+data_path+\"/kgc.txt\", e_id, r_id)\n",
    "\n",
    "# for test purposes\n",
    "#s_all = np.concatenate((s_test,s_train,s_valid))\n",
    "#o_all = np.concatenate((o_test,o_train,o_valid))\n",
    "#p_all = np.concatenate((p_test,p_train,p_valid))"
   ]
  },
  {
   "cell_type": "code",
   "execution_count": 34,
   "metadata": {},
   "outputs": [],
   "source": [
    "def combine(s_data, o_data, p_data, sources, e_id, r_id):\n",
    "    so2p = {}\n",
    "    sp2o = {}\n",
    "    op2s = {}\n",
    "    for source in sources:\n",
    "        s_source = source[0]\n",
    "        o_source = source[1]\n",
    "        p_source = source[2]\n",
    "        so2p = count_pair(s_source,o_source,p_source,so2p)\n",
    "        sp2o = count_pair(s_source,p_source,o_source,sp2o)\n",
    "        op2s = count_pair(o_source,p_source,s_source,op2s)\n",
    "        \n",
    "    s_combine = np.zeros((len(s_data),len(e_id)), dtype = bool)\n",
    "    o_combine = np.zeros((len(o_data),len(e_id)), dtype = bool)\n",
    "    p_combine = np.zeros((len(p_data),len(r_id)), dtype = bool)\n",
    "    \n",
    "    for s,o,p,i in zip(s_data,o_data,p_data,range(len(s_data))):\n",
    "        s_combine[i][list(op2s[(o,p)])] = True\n",
    "        o_combine[i][list(sp2o[(s,p)])] = True\n",
    "        p_combine[i][list(so2p[(s,o)])] = True\n",
    "        \n",
    "    print(s_combine.sum()/(len(s_data)*len(e_id)))\n",
    "    print(o_combine.sum()/(len(o_data)*len(e_id)))\n",
    "    print(p_combine.sum()/(len(p_data)*len(r_id)))\n",
    "    return s_combine,o_combine,p_combine"
   ]
  },
  {
   "cell_type": "code",
   "execution_count": 35,
   "metadata": {},
   "outputs": [],
   "source": [
    "def count_pair(A,B,C,p2i):\n",
    "    for a,b,c in zip(A,B,C):\n",
    "        if (a,b) not in p2i:\n",
    "            p2i.update({(a,b):set()})\n",
    "        p2i[(a,b)].add(c)\n",
    "    return p2i"
   ]
  },
  {
   "cell_type": "code",
   "execution_count": 36,
   "metadata": {},
   "outputs": [
    {
     "name": "stdout",
     "output_type": "stream",
     "text": [
      "0.004295186429001981\n",
      "0.007929045035735813\n",
      "0.016722325293753865\n",
      "0.0044796975176722015\n",
      "0.009137486985588252\n",
      "0.015545060999606454\n"
     ]
    }
   ],
   "source": [
    "s_train_comb,o_train_comb,p_train_comb = combine(s_train,o_train,p_train,[[s_train,o_train,p_train]], e_id, r_id)\n",
    "s_test_comb,o_test_comb,p_test_comb = combine(s_test,o_test,p_test,[[s_train,o_train,p_train],[s_test,o_test,p_test]], e_id, r_id)\n",
    "#s_test_comb,o_test_comb,p_test_comb = combine(s_test,o_test,p_test,[[s_train,o_train,p_train],[s_test,o_test,p_test],[s_valid,o_valid,p_valid]], e_id, r_id)\n",
    "#s_kgc_comb,o_kgc_comb,p_kgc_comb = combine(s_kgc,o_kgc,p_kgc,[[s_train,o_train,p_train],[s_test,o_test,p_test],[s_valid,o_valid,p_valid]], e_id, r_id)\n",
    "\n",
    "\n",
    "ent_voc = len(e_id)\n",
    "rel_voc = len(r_id)"
   ]
  },
  {
   "cell_type": "code",
   "execution_count": 37,
   "metadata": {},
   "outputs": [
    {
     "data": {
      "text/plain": [
       "553"
      ]
     },
     "execution_count": 37,
     "metadata": {},
     "output_type": "execute_result"
    }
   ],
   "source": [
    "ent_voc"
   ]
  },
  {
   "cell_type": "code",
   "execution_count": 38,
   "metadata": {},
   "outputs": [],
   "source": [
    "def dynamic_weighted_binary_crossentropy(l,alpha=0.5):\n",
    "    \n",
    "    def loss(y_true, y_pred):\n",
    "        w_neg = K.sum(y_true) / l\n",
    "        w_pos = 1 - w_neg\n",
    "        r = 2*w_neg*w_pos\n",
    "        w_neg /= r\n",
    "        w_pos /= r\n",
    "        \n",
    "        b_ce = K.binary_crossentropy(y_true, y_pred)\n",
    "        w_b_ce = b_ce *y_true* w_pos + b_ce * (1-y_true) * w_neg \n",
    "        return K.mean(w_b_ce) * alpha + K.mean(b_ce) * (1-alpha)\n",
    "    \n",
    "    return loss"
   ]
  },
  {
   "cell_type": "code",
   "execution_count": 39,
   "metadata": {},
   "outputs": [],
   "source": [
    "def P(y_true, y_pred):\n",
    "    true_positives = K.sum(K.cast_to_floatx(K.greater(K.clip(y_true * y_pred, 0, 1), 0.20)))\n",
    "    pred_positives = K.sum(K.cast_to_floatx(K.greater(K.clip(y_pred, 0, 1), 0.50)))\n",
    "\n",
    "    precision = true_positives / (pred_positives + K.epsilon())\n",
    "    return precision"
   ]
  },
  {
   "cell_type": "code",
   "execution_count": 40,
   "metadata": {},
   "outputs": [],
   "source": [
    "def R(y_true, y_pred):\n",
    "    true_positives = K.sum(K.cast_to_floatx(K.greater(K.clip(y_true * y_pred, 0, 1), 0.20)))\n",
    "    poss_positives = K.sum(K.cast_to_floatx(K.greater(K.clip(y_true, 0, 1), 0.50)))\n",
    "\n",
    "    recall = true_positives / (poss_positives + K.epsilon())\n",
    "    return recall"
   ]
  },
  {
   "cell_type": "code",
   "execution_count": 41,
   "metadata": {},
   "outputs": [],
   "source": [
    "def hit_count_pair(x_data, y_data, z_data):\n",
    "    xy2z = {}\n",
    "    for x,y,z in zip(x_data, y_data, z_data):\n",
    "        if (x,y) not in xy2z:\n",
    "            xy2z.update({(x,y):set()})\n",
    "        xy2z[(x,y)].add(z)\n",
    "    return xy2z"
   ]
  },
  {
   "cell_type": "code",
   "execution_count": 42,
   "metadata": {},
   "outputs": [],
   "source": [
    "def hits(inputs1, inputs2, preds, trues, k = 1, th = 0.5):\n",
    "    i2p = hit_count_pair(s_all,o_all,p_all)\n",
    "    hits_k_raw = 0.\n",
    "    hits_k_filt = 0.\n",
    "    hits_pos = 0.\n",
    "    \n",
    "    for i1, i2, pred, true in zip(inputs1, inputs2, preds, trues):\n",
    "        for p in np.argsort(pred)[::-1][:k]:\n",
    "            if p == true:\n",
    "                hits_k_raw += 1\n",
    "                break\n",
    "        \n",
    "        count = 0\n",
    "        for p in np.argsort(pred)[::-1]:\n",
    "            if p == true:\n",
    "                hits_k_filt += 1\n",
    "                break\n",
    "            if (i1,i2) in i2p:\n",
    "                if p in i2p[(i1,i2)]:\n",
    "                    continue\n",
    "            count += 1\n",
    "            if count >= k:\n",
    "                break\n",
    "            \n",
    "        if pred[true] >= th:\n",
    "            hits_pos += 1\n",
    "            \n",
    "    hits_k_raw /= len(inputs1)\n",
    "    hits_k_filt /= len(inputs1)\n",
    "    hits_pos /= len(inputs1)\n",
    "    \n",
    "    print(\"hits@\"+str(k)+\" raw:\\t\" + str(hits_k_raw))\n",
    "    print(\"hits@\"+str(k)+\" filt:\\t\" + str(hits_k_filt))\n",
    "    print(\"hits@positive:\\t\" + str(hits_pos))"
   ]
  },
  {
   "cell_type": "code",
   "execution_count": 43,
   "metadata": {},
   "outputs": [],
   "source": [
    "def ROC(preds, trues, th = 0.5):\n",
    "    acc = 0.\n",
    "    auc = 0.\n",
    "    precision = 0.\n",
    "    recall = 0.\n",
    "    f1 = 0.\n",
    "    \n",
    "    count = 0\n",
    "    \n",
    "    for pred, true in zip(preds, trues):\n",
    "        count += 1\n",
    "        auc += roc_auc_score(true, pred)\n",
    "    \n",
    "        pred = pred > th\n",
    "        if pred.sum() == 0:\n",
    "            continue\n",
    "            \n",
    "        acc += accuracy_score(true,pred)\n",
    "        pre = precision_score(true, pred, average='binary')  \n",
    "        rec = recall_score(true, pred, average='binary') \n",
    "        precision += pre\n",
    "        recall += rec\n",
    "        if (pre+rec) > 0:\n",
    "            f1 += 2*pre*rec /(pre+rec)\n",
    "    \n",
    "    acc /= count\n",
    "    auc /= count\n",
    "    precision /= count\n",
    "    recall /= count\n",
    "    f1 /= count\n",
    "    \n",
    "    print(\"Accuracy:\\t\" + str(acc))\n",
    "    print(\"AUC:     \\t\" + str(auc))\n",
    "    print(\"P:       \\t\" + str(precision))\n",
    "    print(\"R:       \\t\" + str(recall))\n",
    "    print(\"F1:     \\t\" + str(f1))"
   ]
  },
  {
   "cell_type": "code",
   "execution_count": 44,
   "metadata": {},
   "outputs": [],
   "source": [
    "def learning_rate(epoch):\n",
    "    if epoch > 40:   return 0.00001\n",
    "    elif epoch > 30: return 0.000033\n",
    "    elif epoch > 20: return 0.0001\n",
    "    elif epoch > 10: return 0.00033\n",
    "    return 0.001"
   ]
  },
  {
   "cell_type": "code",
   "execution_count": 45,
   "metadata": {},
   "outputs": [],
   "source": [
    "sample_weight = np.zeros((len(s_train),))\n",
    "so2p = count_pair(s_train,o_train,p_train,{})\n",
    "for s,o,i in zip(s_train, o_train,range(len(s_train))):\n",
    "    sample_weight[i] = 1/ len(so2p[(s,o)])\n",
    "sample_weight /= sample_weight.sum()/len(s_train)\n",
    "del so2p"
   ]
  },
  {
   "cell_type": "code",
   "execution_count": 46,
   "metadata": {},
   "outputs": [],
   "source": [
    "S_input = Input(shape=(1,), dtype=\"int32\", name=\"S_input\")\n",
    "O_input = Input(shape=(1,), dtype=\"int32\", name=\"O_input\")"
   ]
  },
  {
   "cell_type": "code",
   "execution_count": 47,
   "metadata": {},
   "outputs": [],
   "source": [
    "embed_layer = Embedding(ent_voc, dim1)\n",
    "S_embed = embed_layer(S_input)\n",
    "O_embed = embed_layer(O_input)"
   ]
  },
  {
   "cell_type": "code",
   "execution_count": 48,
   "metadata": {},
   "outputs": [],
   "source": [
    "reshape_layer = Reshape((dim1,), input_shape=(1,dim1))\n",
    "S_reshape = reshape_layer(S_embed)\n",
    "O_reshape = reshape_layer(O_embed)"
   ]
  },
  {
   "cell_type": "code",
   "execution_count": 49,
   "metadata": {},
   "outputs": [],
   "source": [
    "SO_merged = Multiply()([S_reshape, O_reshape])\n",
    "SO_merged = Concatenate()([S_reshape, O_reshape,SO_merged])"
   ]
  },
  {
   "cell_type": "code",
   "execution_count": 50,
   "metadata": {},
   "outputs": [],
   "source": [
    "SO_merged = Dropout(0.3)(SO_merged)\n",
    "SO_merged = Dense(int(dim2*1.5), activation=\"relu\")(SO_merged)\n",
    "SO_merged = Dropout(0.1)(SO_merged)\n",
    "SO_merged = Dense(int(dim2*1.5/2), activation=\"relu\")(SO_merged)\n",
    "SO_merged = Dropout(0.1)(SO_merged)"
   ]
  },
  {
   "cell_type": "code",
   "execution_count": 51,
   "metadata": {},
   "outputs": [],
   "source": [
    "P_pred = Dense(rel_voc, activation=\"sigmoid\")(SO_merged)"
   ]
  },
  {
   "cell_type": "code",
   "execution_count": 52,
   "metadata": {},
   "outputs": [],
   "source": [
    "model = Model([S_input, O_input], P_pred)"
   ]
  },
  {
   "cell_type": "code",
   "execution_count": 53,
   "metadata": {},
   "outputs": [],
   "source": [
    "lr_cb = LearningRateScheduler(learning_rate)"
   ]
  },
  {
   "cell_type": "code",
   "execution_count": 388,
   "metadata": {},
   "outputs": [],
   "source": [
    "model.compile(optimizer=\"adam\", loss=dynamic_weighted_binary_crossentropy(rel_voc,alpha=alpha), \n",
    "              metrics=[\"binary_accuracy\",P,R])"
   ]
  },
  {
   "cell_type": "code",
   "execution_count": 403,
   "metadata": {},
   "outputs": [
    {
     "name": "stdout",
     "output_type": "stream",
     "text": [
      "Epoch 1/20\n",
      "17/17 [==============================] - 0s 2ms/step - loss: 0.0673 - binary_accuracy: 0.9839 - P: 3.7500 - R: 0.1762\n",
      "Epoch 2/20\n",
      "17/17 [==============================] - 0s 2ms/step - loss: 0.0675 - binary_accuracy: 0.9841 - P: 4117649.0000 - R: 0.1570\n",
      "Epoch 3/20\n",
      "17/17 [==============================] - 0s 2ms/step - loss: 0.0665 - binary_accuracy: 0.9843 - P: 1764708.1250 - R: 0.1707\n",
      "Epoch 4/20\n",
      "17/17 [==============================] - 0s 2ms/step - loss: 0.0665 - binary_accuracy: 0.9844 - P: 2.5613 - R: 0.1722\n",
      "Epoch 5/20\n",
      "17/17 [==============================] - 0s 2ms/step - loss: 0.0658 - binary_accuracy: 0.9847 - P: 1.5072 - R: 0.1746\n",
      "Epoch 6/20\n",
      "17/17 [==============================] - 0s 2ms/step - loss: 0.0652 - binary_accuracy: 0.9848 - P: 1764707.2500 - R: 0.1933\n",
      "Epoch 7/20\n",
      "17/17 [==============================] - 0s 2ms/step - loss: 0.0646 - binary_accuracy: 0.9852 - P: 1.6192 - R: 0.1865\n",
      "Epoch 8/20\n",
      "17/17 [==============================] - 0s 2ms/step - loss: 0.0646 - binary_accuracy: 0.9850 - P: 1.2194 - R: 0.1769\n",
      "Epoch 9/20\n",
      "17/17 [==============================] - 0s 2ms/step - loss: 0.0641 - binary_accuracy: 0.9849 - P: 1.5525 - R: 0.2035\n",
      "Epoch 10/20\n",
      "17/17 [==============================] - 0s 2ms/step - loss: 0.0637 - binary_accuracy: 0.9850 - P: 1.3995 - R: 0.1908\n",
      "Epoch 11/20\n",
      "17/17 [==============================] - 0s 2ms/step - loss: 0.0638 - binary_accuracy: 0.9852 - P: 1.5059 - R: 0.1944\n",
      "Epoch 12/20\n",
      "17/17 [==============================] - 0s 2ms/step - loss: 0.0632 - binary_accuracy: 0.9851 - P: 1764707.5000 - R: 0.1986\n",
      "Epoch 13/20\n",
      "17/17 [==============================] - 0s 2ms/step - loss: 0.0631 - binary_accuracy: 0.9851 - P: 1.4225 - R: 0.2163\n",
      "Epoch 14/20\n",
      "17/17 [==============================] - 0s 2ms/step - loss: 0.0629 - binary_accuracy: 0.9850 - P: 1.2789 - R: 0.1954\n",
      "Epoch 15/20\n",
      "17/17 [==============================] - 0s 1ms/step - loss: 0.0630 - binary_accuracy: 0.9852 - P: 1.2331 - R: 0.1994\n",
      "Epoch 16/20\n",
      "17/17 [==============================] - 0s 2ms/step - loss: 0.0627 - binary_accuracy: 0.9852 - P: 5882353.0000 - R: 0.1953\n",
      "Epoch 17/20\n",
      "17/17 [==============================] - 0s 2ms/step - loss: 0.0629 - binary_accuracy: 0.9851 - P: 1.2715 - R: 0.2161\n",
      "Epoch 18/20\n",
      "17/17 [==============================] - 0s 1ms/step - loss: 0.0624 - binary_accuracy: 0.9852 - P: 1.2539 - R: 0.2049\n",
      "Epoch 19/20\n",
      "17/17 [==============================] - 0s 2ms/step - loss: 0.0631 - binary_accuracy: 0.9849 - P: 1176471.5000 - R: 0.1913\n",
      "Epoch 20/20\n",
      "17/17 [==============================] - 0s 2ms/step - loss: 0.0621 - binary_accuracy: 0.9851 - P: 1.4004 - R: 0.2176\n"
     ]
    },
    {
     "data": {
      "text/plain": [
       "<tensorflow.python.keras.callbacks.History at 0x20205526dc0>"
      ]
     },
     "execution_count": 403,
     "metadata": {},
     "output_type": "execute_result"
    }
   ],
   "source": [
    "model.fit([s_train, o_train], K.cast_to_floatx(p_train_comb), epochs=20, \\\n",
    "          sample_weight=sample_weight, callbacks=[lr_cb])"
   ]
  },
  {
   "cell_type": "code",
   "execution_count": 404,
   "metadata": {},
   "outputs": [],
   "source": [
    "# Save model in HDF5 format\n",
    "model.save('KGML_model.h5')"
   ]
  },
  {
   "cell_type": "code",
   "execution_count": 54,
   "metadata": {},
   "outputs": [],
   "source": [
    "my_functions = {\n",
    "    \"loss\": dynamic_weighted_binary_crossentropy(len(r_id)),\n",
    "    \"P\": P,\n",
    "    \"R\": R\n",
    "}"
   ]
  },
  {
   "cell_type": "code",
   "execution_count": 55,
   "metadata": {},
   "outputs": [],
   "source": [
    "# Load model\n",
    "kgml_model = load_model('KGML_model.h5', custom_objects=my_functions)"
   ]
  },
  {
   "cell_type": "code",
   "execution_count": 56,
   "metadata": {},
   "outputs": [],
   "source": [
    "# Test model\n",
    "p_preds = kgml_model.predict([s_test, o_test])"
   ]
  },
  {
   "cell_type": "code",
   "execution_count": 62,
   "metadata": {},
   "outputs": [],
   "source": [
    "#hits(s_test,o_test,p_preds,p_test)\n",
    "#hits(s_test,o_test,p_preds,p_test,k=10)"
   ]
  },
  {
   "cell_type": "code",
   "execution_count": 63,
   "metadata": {},
   "outputs": [
    {
     "name": "stdout",
     "output_type": "stream",
     "text": [
      "Accuracy:\t0.13547815820543094\n",
      "AUC:     \t0.797663440952915\n",
      "P:       \t0.10606060606060606\n",
      "R:       \t0.10606060606060606\n",
      "F1:     \t0.10606060606060606\n"
     ]
    }
   ],
   "source": [
    "ROC(p_preds,K.cast_to_floatx(p_test_comb))    "
   ]
  },
  {
   "cell_type": "code",
   "execution_count": 64,
   "metadata": {},
   "outputs": [],
   "source": [
    "# Get KG embeddings\n",
    "kgml_emb = kgml_model.predict([s_kgc,o_kgc])"
   ]
  },
  {
   "cell_type": "code",
   "execution_count": 94,
   "metadata": {},
   "outputs": [],
   "source": [
    "# Project embeddings into 2D space via PCA\n",
    "kgml_pca = PCA(n_components=2)\n",
    "kgml_emb_2d = kgml_pca.fit_transform(kgml_emb)"
   ]
  },
  {
   "cell_type": "code",
   "execution_count": 95,
   "metadata": {},
   "outputs": [
    {
     "data": {
      "text/plain": [
       "array([0.8607943 , 0.10884243], dtype=float32)"
      ]
     },
     "execution_count": 95,
     "metadata": {},
     "output_type": "execute_result"
    }
   ],
   "source": [
    "kgml_pca.explained_variance_ratio_"
   ]
  },
  {
   "cell_type": "code",
   "execution_count": 93,
   "metadata": {},
   "outputs": [
    {
     "data": {
      "text/plain": [
       "array([[-0.10747952, -0.06425723],\n",
       "       [-0.18702695, -0.03276301],\n",
       "       [-0.16199276,  0.6592049 ],\n",
       "       [-0.09257086, -0.10800052],\n",
       "       [-0.13844594,  0.06614693]], dtype=float32)"
      ]
     },
     "execution_count": 93,
     "metadata": {},
     "output_type": "execute_result"
    }
   ],
   "source": [
    "kgml_emb_2d[:5,]"
   ]
  },
  {
   "cell_type": "code",
   "execution_count": 87,
   "metadata": {},
   "outputs": [
    {
     "ename": "AttributeError",
     "evalue": "'numpy.ndarray' object has no attribute 'explained_variance_ratio_'",
     "output_type": "error",
     "traceback": [
      "\u001b[1;31m---------------------------------------------------------------------------\u001b[0m",
      "\u001b[1;31mAttributeError\u001b[0m                            Traceback (most recent call last)",
      "\u001b[1;32m<ipython-input-87-11a1655b7154>\u001b[0m in \u001b[0;36m<module>\u001b[1;34m\u001b[0m\n\u001b[1;32m----> 1\u001b[1;33m \u001b[0mkgml_emb_2d\u001b[0m\u001b[1;33m.\u001b[0m\u001b[0mexplained_variance_ratio_\u001b[0m\u001b[1;33m\u001b[0m\u001b[1;33m\u001b[0m\u001b[0m\n\u001b[0m",
      "\u001b[1;31mAttributeError\u001b[0m: 'numpy.ndarray' object has no attribute 'explained_variance_ratio_'"
     ]
    }
   ],
   "source": [
    "kgml_emb_2d.explained_variance_ratio_"
   ]
  },
  {
   "cell_type": "code",
   "execution_count": 67,
   "metadata": {},
   "outputs": [],
   "source": [
    "kg_embed = pd.DataFrame(kgml_emb_2d, columns = ['PC1', 'PC2'])"
   ]
  },
  {
   "cell_type": "code",
   "execution_count": 68,
   "metadata": {},
   "outputs": [],
   "source": [
    "kg_embed.to_csv('./kgml_embedding.csv', index=False)"
   ]
  }
 ],
 "metadata": {
  "kernelspec": {
   "display_name": "Python 3",
   "language": "python",
   "name": "python3"
  },
  "language_info": {
   "codemirror_mode": {
    "name": "ipython",
    "version": 3
   },
   "file_extension": ".py",
   "mimetype": "text/x-python",
   "name": "python",
   "nbconvert_exporter": "python",
   "pygments_lexer": "ipython3",
   "version": "3.8.3"
  }
 },
 "nbformat": 4,
 "nbformat_minor": 4
}
