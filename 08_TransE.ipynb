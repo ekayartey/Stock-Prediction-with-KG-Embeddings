{
 "cells": [
  {
   "cell_type": "markdown",
   "metadata": {},
   "source": [
    "### TransE model implemented using Ampligraph library"
   ]
  },
  {
   "cell_type": "code",
   "execution_count": 1,
   "metadata": {},
   "outputs": [
    {
     "data": {
      "text/plain": [
       "'1.3.2'"
      ]
     },
     "execution_count": 1,
     "metadata": {},
     "output_type": "execute_result"
    }
   ],
   "source": [
    "import ampligraph\n",
    "ampligraph.__version__"
   ]
  },
  {
   "cell_type": "code",
   "execution_count": 1,
   "metadata": {},
   "outputs": [],
   "source": [
    "import numpy as np\n",
    "import pandas as pd\n",
    "from sklearn.decomposition import PCA\n",
    "import matplotlib.pyplot as plt\n",
    "\n",
    "import tensorflow as tf\n",
    "from ampligraph.latent_features import TransE\n",
    "from ampligraph.evaluation import evaluate_performance\n",
    "from ampligraph.latent_features import save_model, restore_model\n",
    "from ampligraph.evaluation import mr_score, mrr_score, hits_at_n_score\n",
    "from ampligraph.datasets import load_from_csv\n",
    "from ampligraph.evaluation import train_test_split_no_unseen "
   ]
  },
  {
   "cell_type": "code",
   "execution_count": 6,
   "metadata": {},
   "outputs": [],
   "source": [
    "# load data\n",
    "tec_kg = load_from_csv(\"data\\KGE\",\"tec.txt\",sep=', ')\n",
    "\n",
    "all_tec = pd.read_csv('./data/KGE/tec_entity.txt',sep=\", \", header=None, engine='python')\n",
    "Entity = all_tec.values"
   ]
  },
  {
   "cell_type": "code",
   "execution_count": 7,
   "metadata": {},
   "outputs": [],
   "source": [
    "X_train, X_test = train_test_split_no_unseen(tec_kg, test_size=0.20)"
   ]
  },
  {
   "cell_type": "code",
   "execution_count": 17,
   "metadata": {},
   "outputs": [
    {
     "data": {
      "text/plain": [
       "array([['Q188889', 'P107', 'Q182496'],\n",
       "       ['Q41187', 'P119', 'Q703534'],\n",
       "       ['Q2008123', 'P155', 'Q204711'],\n",
       "       ...,\n",
       "       ['Q2283', 'P133', 'Q43627'],\n",
       "       ['Q2283', 'P100', 'Q92296582'],\n",
       "       ['Q2283', 'P133', 'Q100741418']], dtype=object)"
      ]
     },
     "execution_count": 17,
     "metadata": {},
     "output_type": "execute_result"
    }
   ],
   "source": [
    "X_train"
   ]
  },
  {
   "cell_type": "code",
   "execution_count": 18,
   "metadata": {},
   "outputs": [],
   "source": [
    "# Initialise TransE model\n",
    "model = TransE(batches_count=100, \n",
    "               epochs=50, \n",
    "               k=20, \n",
    "               loss='multiclass_nll',\n",
    "               eta=2,\n",
    "               optimizer_params={'lr':1e-3},\n",
    "               optimizer='adam',\n",
    "               verbose=True,\n",
    "              )"
   ]
  },
  {
   "cell_type": "code",
   "execution_count": 19,
   "metadata": {},
   "outputs": [],
   "source": [
    "positives_filter = tec_kg "
   ]
  },
  {
   "cell_type": "code",
   "execution_count": 20,
   "metadata": {},
   "outputs": [
    {
     "name": "stderr",
     "output_type": "stream",
     "text": [
      "Average Loss:   0.094475: 100%|██████████| 50/50 [00:05<00:00,  9.21epoch/s]\n"
     ]
    }
   ],
   "source": [
    "# Fitting the model\n",
    "tf.logging.set_verbosity(tf.logging.ERROR)\n",
    "\n",
    "model.fit(X_train, early_stopping = False)"
   ]
  },
  {
   "cell_type": "code",
   "execution_count": 21,
   "metadata": {},
   "outputs": [],
   "source": [
    "# Calibrate the output probabilities\n",
    "# model.calibrate(kgdata['valid'], positive_base_rate=0.5)"
   ]
  },
  {
   "cell_type": "code",
   "execution_count": 22,
   "metadata": {},
   "outputs": [],
   "source": [
    "# Saving model \n",
    "save_model(model, 'TransE_model.pkl')"
   ]
  },
  {
   "cell_type": "code",
   "execution_count": 4,
   "metadata": {},
   "outputs": [],
   "source": [
    "# Load model\n",
    "transe_model = restore_model('TransE_model.pkl')"
   ]
  },
  {
   "cell_type": "code",
   "execution_count": 24,
   "metadata": {},
   "outputs": [
    {
     "name": "stdout",
     "output_type": "stream",
     "text": [
      "WARNING - DeprecationWarning: use_default_protocol will be removed in future. Please use corrupt_side argument instead.\n"
     ]
    },
    {
     "name": "stderr",
     "output_type": "stream",
     "text": [
      "100%|██████████| 121/121 [00:00<00:00, 349.63it/s]\n"
     ]
    }
   ],
   "source": [
    "# Evaluate model\n",
    "ranks = evaluate_performance(X_test, \n",
    "                             model=transe_model, \n",
    "                             filter_triples= positives_filter,   # Corruption strategy filter defined above \n",
    "                             use_default_protocol=True, # corrupt subj and obj separately while evaluating\n",
    "                             verbose=True)"
   ]
  },
  {
   "cell_type": "code",
   "execution_count": 25,
   "metadata": {},
   "outputs": [
    {
     "name": "stdout",
     "output_type": "stream",
     "text": [
      "MRR: 0.07\n",
      "Hits@10: 0.20\n",
      "Hits@3: 0.04\n",
      "Hits@1: 0.02\n"
     ]
    }
   ],
   "source": [
    "# Metrics\n",
    "mrr = mrr_score(ranks)\n",
    "print(\"MRR: %.2f\" % (mrr))\n",
    "\n",
    "hits_10 = hits_at_n_score(ranks, n=10)\n",
    "print(\"Hits@10: %.2f\" % (hits_10))\n",
    "hits_3 = hits_at_n_score(ranks, n=3)\n",
    "print(\"Hits@3: %.2f\" % (hits_3))\n",
    "hits_1 = hits_at_n_score(ranks, n=1)\n",
    "print(\"Hits@1: %.2f\" % (hits_1))"
   ]
  },
  {
   "cell_type": "code",
   "execution_count": 7,
   "metadata": {},
   "outputs": [],
   "source": [
    "Entities = transe_model.get_embeddings(Entity)"
   ]
  },
  {
   "cell_type": "code",
   "execution_count": 21,
   "metadata": {},
   "outputs": [
    {
     "data": {
      "text/plain": [
       "(657, 2, 20)"
      ]
     },
     "execution_count": 21,
     "metadata": {},
     "output_type": "execute_result"
    }
   ],
   "source": [
    "Entities.shape"
   ]
  },
  {
   "cell_type": "code",
   "execution_count": 19,
   "metadata": {
    "scrolled": true
   },
   "outputs": [],
   "source": [
    "# Project embeddings into 2D space via PCA\n",
    "head_pca = PCA(n_components=2)\n",
    "tail_pca = PCA(n_components=2)\n",
    "entity_pca1 = head_pca.fit_transform(Entities[:,0])\n",
    "entity_pca2 = tail_pca.fit_transform(Entities[:,1])"
   ]
  },
  {
   "cell_type": "code",
   "execution_count": 20,
   "metadata": {},
   "outputs": [
    {
     "data": {
      "text/plain": [
       "(array([0.20219809, 0.1078641 ], dtype=float32),\n",
       " array([0.15185674, 0.13848235], dtype=float32))"
      ]
     },
     "execution_count": 20,
     "metadata": {},
     "output_type": "execute_result"
    }
   ],
   "source": [
    "head_pca.explained_variance_ratio_, tail_pca.explained_variance_ratio_"
   ]
  },
  {
   "cell_type": "code",
   "execution_count": 9,
   "metadata": {},
   "outputs": [
    {
     "data": {
      "text/plain": [
       "array([[ 0.22393472,  0.27351657],\n",
       "       [ 0.39607623,  0.12480334],\n",
       "       [-0.03375905,  0.13812797],\n",
       "       ...,\n",
       "       [-0.25834516, -0.10555292],\n",
       "       [-0.25834516, -0.10555292],\n",
       "       [-0.25834516, -0.10555292]], dtype=float32)"
      ]
     },
     "execution_count": 9,
     "metadata": {},
     "output_type": "execute_result"
    }
   ],
   "source": [
    "entity_pca1"
   ]
  },
  {
   "cell_type": "code",
   "execution_count": 10,
   "metadata": {},
   "outputs": [
    {
     "data": {
      "text/plain": [
       "array([[ 1.5938260e-02,  2.2074173e-01],\n",
       "       [-3.2242507e-02,  3.1530204e-01],\n",
       "       [ 5.8401265e-04,  2.2587140e-01],\n",
       "       ...,\n",
       "       [ 2.8553566e-01,  7.2214395e-02],\n",
       "       [ 6.5978724e-01,  1.3970394e-02],\n",
       "       [ 5.2142763e-01,  3.3060566e-02]], dtype=float32)"
      ]
     },
     "execution_count": 10,
     "metadata": {},
     "output_type": "execute_result"
    }
   ],
   "source": [
    "entity_pca2"
   ]
  },
  {
   "cell_type": "code",
   "execution_count": 11,
   "metadata": {},
   "outputs": [],
   "source": [
    "te_embed = pd.DataFrame(entity_pca1, columns = ['ent1PC1', 'ent1PC2'])\n",
    "te2_embed = pd.DataFrame(entity_pca2, columns = ['ent2PC1', 'ent2PC2'])"
   ]
  },
  {
   "cell_type": "code",
   "execution_count": 218,
   "metadata": {},
   "outputs": [],
   "source": [
    "te_embd = pd.concat([te_embed,te2_embed], axis=1)"
   ]
  },
  {
   "cell_type": "code",
   "execution_count": 220,
   "metadata": {},
   "outputs": [],
   "source": [
    "te_embd.to_csv('te_embedding.csv')"
   ]
  }
 ],
 "metadata": {
  "kernelspec": {
   "display_name": "Python 3",
   "language": "python",
   "name": "python3"
  },
  "language_info": {
   "codemirror_mode": {
    "name": "ipython",
    "version": 3
   },
   "file_extension": ".py",
   "mimetype": "text/x-python",
   "name": "python",
   "nbconvert_exporter": "python",
   "pygments_lexer": "ipython3",
   "version": "3.8.3"
  }
 },
 "nbformat": 4,
 "nbformat_minor": 4
}
