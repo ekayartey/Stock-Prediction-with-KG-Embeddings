{
 "cells": [
  {
   "cell_type": "code",
   "execution_count": null,
   "metadata": {},
   "outputs": [],
   "source": []
  },
  {
   "cell_type": "code",
   "execution_count": null,
   "metadata": {},
   "outputs": [],
   "source": [
    "(\"Activist Shareholders have launched more Campaigns.\",{\"entities\":[(0,21,\"ORG\")]}),\n",
    "(\"Appeals Court ruled for Microsoft.\",{\"entities\":[(0,13,\"ORG\")]}),\n",
    "(\"ARM Processor threatens Intel dominance.\",{\"entities\":[(0,13,\"PRODUCT\")]}),\n",
    "(\"Business Survey has warned of China protectionism.\",{\"entities\":[(0,15,\"PRODUCT\")]}),\n",
    "(\"Code update has crashed Bing search engine.\",{\"entities\":[(0,4,\"PRODUCT\")]}),\n",
    "(\"Consumer Reports has pulled its recommended rating.\",{\"entities\":[(0,16,\"ORG\")]}),\n",
    "(\"Dow has hit Low.\",{\"entities\":[(0,3,\"ORG\")]}),\n",
    "(\"Equity Markets rise by Technology stock gains.\",{\"entities\":[(0,14,\"ORG\")]}),\n",
    "(\"Forex Traders questions Apple tax row.\",{\"entities\":[(0,13,\"ORG\")]}),\n",
    "(\"Futures rise by investors earnings.\",{\"entities\":[(0,7,\"PRODUCT\")]}),\n",
    "(\"Lizard Squad has hacked Lenovo website.\",{\"entities\":[(0,12,\"ORG\")]}),\n",
    "(\"Social Media Firms have reduced online hate speech.\",{\"entities\":[(7,18,\"ORG\")]}),\n",
    "(\"Nasdaq falls by Technology stock loss.\",{\"entities\":[(0,6,\"PRODUCT\")]}),\n",
    "(\"Nikkei Index fell on profit taking.\",{\"entities\":[(0,6,\"PRODUCT\")]}),\n",
    "(\"Oil prices rises on OPEC deal.\",{\"entities\":[(0,3,\"PRODUCT\")]}),\n",
    "(\"Pounds sterling falls after UK election shock.\",{\"entities\":[(0,6,\"MONEY\")]}),\n",
    "(\"Security Experts find ransomware worm clues.\",{\"entities\":[(0,16,\"ORG\")]}),\n",
    "(\"Business Software Alliance has urged the U.S. Trade Representative.\",{\"entities\":[(9,26,\"ORG\")]}),\n",
    "(\"Tax Bill eats BarnesNoble profit.\",{\"entities\":[(0,8,\"PRODUCT\")]}),\n",
    "(\"Tax Reforms threatens Bond Market.\",{\"entities\":[(0,11,\"PRODUCT\")]}),\n",
    "(\"Tay bot crashed on racist tweets.\",{\"entities\":[(0,3,\"PRODUCT\")]}),\n",
    "(\"Tech Firms would tackle extremism.\",{\"entities\":[(0,10,\"ORG\")]}),\n",
    "(\"Wall Street rises by Technology stock gains.\",{\"entities\":[(0,11,\"ORG\")]}),\n",
    "(\"Windows upgrade has met criticism.\",{\"entities\":[(0,7,\"PRODUCT\")]})\n"
   ]
  }
 ],
 "metadata": {
  "kernelspec": {
   "display_name": "Python 3",
   "language": "python",
   "name": "python3"
  },
  "language_info": {
   "codemirror_mode": {
    "name": "ipython",
    "version": 3
   },
   "file_extension": ".py",
   "mimetype": "text/x-python",
   "name": "python",
   "nbconvert_exporter": "python",
   "pygments_lexer": "ipython3",
   "version": "3.8.3"
  }
 },
 "nbformat": 4,
 "nbformat_minor": 4
}
