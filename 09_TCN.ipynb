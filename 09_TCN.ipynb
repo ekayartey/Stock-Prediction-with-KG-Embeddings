{
 "cells": [
  {
   "cell_type": "markdown",
   "metadata": {},
   "source": [
    "### TCN Stock Prediction Model developed"
   ]
  },
  {
   "cell_type": "code",
   "execution_count": 41,
   "metadata": {},
   "outputs": [],
   "source": [
    "import os\n",
    "import matplotlib.pyplot as plt\n",
    "import numpy as np\n",
    "import pandas as pd\n",
    "from sklearn.model_selection import train_test_split\n",
    "from sklearn.metrics import classification_report, confusion_matrix \n",
    "from sklearn.metrics import roc_curve, roc_auc_score, f1_score, accuracy_score\n",
    "\n",
    "import tensorflow.keras.backend as K\n",
    "from tensorflow.keras import Input, Model\n",
    "from tensorflow.keras.layers import Conv1D,Conv2D, Dense, Dropout\n",
    "from tensorflow.keras.layers import MaxPool2D\n",
    "from tcn import TCN, tcn_full_summary, compiled_tcn"
   ]
  },
  {
   "cell_type": "markdown",
   "metadata": {},
   "source": [
    "#### TCN model on KGML Dataset"
   ]
  },
  {
   "cell_type": "code",
   "execution_count": 42,
   "metadata": {},
   "outputs": [],
   "source": [
    "# Load KGML Data\n",
    "kg_data = pd.read_csv('kg_complete.csv')"
   ]
  },
  {
   "cell_type": "code",
   "execution_count": 43,
   "metadata": {},
   "outputs": [
    {
     "data": {
      "text/html": [
       "<div>\n",
       "<style scoped>\n",
       "    .dataframe tbody tr th:only-of-type {\n",
       "        vertical-align: middle;\n",
       "    }\n",
       "\n",
       "    .dataframe tbody tr th {\n",
       "        vertical-align: top;\n",
       "    }\n",
       "\n",
       "    .dataframe thead th {\n",
       "        text-align: right;\n",
       "    }\n",
       "</style>\n",
       "<table border=\"1\" class=\"dataframe\">\n",
       "  <thead>\n",
       "    <tr style=\"text-align: right;\">\n",
       "      <th></th>\n",
       "      <th>PC1</th>\n",
       "      <th>PC2</th>\n",
       "      <th>Returns</th>\n",
       "      <th>StochK</th>\n",
       "      <th>WillR</th>\n",
       "      <th>RSI</th>\n",
       "      <th>Target</th>\n",
       "    </tr>\n",
       "  </thead>\n",
       "  <tbody>\n",
       "    <tr>\n",
       "      <th>0</th>\n",
       "      <td>-0.107480</td>\n",
       "      <td>-0.064257</td>\n",
       "      <td>-0.035411</td>\n",
       "      <td>-0.016499</td>\n",
       "      <td>0.176882</td>\n",
       "      <td>0.001747</td>\n",
       "      <td>0</td>\n",
       "    </tr>\n",
       "    <tr>\n",
       "      <th>1</th>\n",
       "      <td>-0.187027</td>\n",
       "      <td>-0.032763</td>\n",
       "      <td>-1.456557</td>\n",
       "      <td>-0.016499</td>\n",
       "      <td>0.176882</td>\n",
       "      <td>0.001747</td>\n",
       "      <td>1</td>\n",
       "    </tr>\n",
       "    <tr>\n",
       "      <th>2</th>\n",
       "      <td>-0.161993</td>\n",
       "      <td>0.659205</td>\n",
       "      <td>0.650385</td>\n",
       "      <td>-0.016499</td>\n",
       "      <td>0.176882</td>\n",
       "      <td>0.001747</td>\n",
       "      <td>1</td>\n",
       "    </tr>\n",
       "    <tr>\n",
       "      <th>3</th>\n",
       "      <td>-0.092571</td>\n",
       "      <td>-0.108001</td>\n",
       "      <td>0.078413</td>\n",
       "      <td>-0.016499</td>\n",
       "      <td>0.176882</td>\n",
       "      <td>0.001747</td>\n",
       "      <td>0</td>\n",
       "    </tr>\n",
       "    <tr>\n",
       "      <th>4</th>\n",
       "      <td>-0.138446</td>\n",
       "      <td>0.066147</td>\n",
       "      <td>-1.181554</td>\n",
       "      <td>-0.016499</td>\n",
       "      <td>0.176882</td>\n",
       "      <td>0.001747</td>\n",
       "      <td>1</td>\n",
       "    </tr>\n",
       "  </tbody>\n",
       "</table>\n",
       "</div>"
      ],
      "text/plain": [
       "        PC1       PC2   Returns    StochK     WillR       RSI  Target\n",
       "0 -0.107480 -0.064257 -0.035411 -0.016499  0.176882  0.001747       0\n",
       "1 -0.187027 -0.032763 -1.456557 -0.016499  0.176882  0.001747       1\n",
       "2 -0.161993  0.659205  0.650385 -0.016499  0.176882  0.001747       1\n",
       "3 -0.092571 -0.108001  0.078413 -0.016499  0.176882  0.001747       0\n",
       "4 -0.138446  0.066147 -1.181554 -0.016499  0.176882  0.001747       1"
      ]
     },
     "execution_count": 43,
     "metadata": {},
     "output_type": "execute_result"
    }
   ],
   "source": [
    "kg_data.head()"
   ]
  },
  {
   "cell_type": "code",
   "execution_count": 44,
   "metadata": {},
   "outputs": [],
   "source": [
    "# Split dataset in features (X) and labels (y)\n",
    "x = kg_data.drop(columns = ['Target'])\n",
    "x = np.array(x)\n",
    "y = np.ravel(kg_data['Target'])"
   ]
  },
  {
   "cell_type": "code",
   "execution_count": 45,
   "metadata": {},
   "outputs": [],
   "source": [
    "f = x.reshape(x.shape[0], x.shape[1], 1)\n",
    "l = y"
   ]
  },
  {
   "cell_type": "code",
   "execution_count": 46,
   "metadata": {},
   "outputs": [
    {
     "data": {
      "text/plain": [
       "((657, 6, 1), (657,))"
      ]
     },
     "execution_count": 46,
     "metadata": {},
     "output_type": "execute_result"
    }
   ],
   "source": [
    "f.shape, l.shape"
   ]
  },
  {
   "cell_type": "code",
   "execution_count": 47,
   "metadata": {},
   "outputs": [],
   "source": [
    "# Split KG into training and test sets\n",
    "x_train,x_test,y_train,y_test = train_test_split(f, l, test_size=0.2, \n",
    "                                                 random_state=42)"
   ]
  },
  {
   "cell_type": "code",
   "execution_count": 48,
   "metadata": {},
   "outputs": [
    {
     "data": {
      "text/plain": [
       "((525, 6, 1), (132, 6, 1), (525,), (132,))"
      ]
     },
     "execution_count": 48,
     "metadata": {},
     "output_type": "execute_result"
    }
   ],
   "source": [
    "x_train.shape, x_test.shape, y_train.shape, y_test.shape"
   ]
  },
  {
   "cell_type": "code",
   "execution_count": 51,
   "metadata": {
    "collapsed": true
   },
   "outputs": [
    {
     "name": "stdout",
     "output_type": "stream",
     "text": [
      "Model: \"functional_1\"\n",
      "_________________________________________________________________\n",
      "Layer (type)                 Output Shape              Param #   \n",
      "=================================================================\n",
      "Input (InputLayer)           [(None, 6, 1)]            0         \n",
      "_________________________________________________________________\n",
      "Conv1D_layer (Conv1D)        (None, 1, 128)            896       \n",
      "_________________________________________________________________\n",
      "TCN_layer (TCN)              (None, 64)                229952    \n",
      "_________________________________________________________________\n",
      "Dense_layer (Dense)          (None, 32)                2080      \n",
      "_________________________________________________________________\n",
      "dropout (Dropout)            (None, 32)                0         \n",
      "_________________________________________________________________\n",
      "output (Dense)               (None, 1)                 33        \n",
      "=================================================================\n",
      "Total params: 232,961\n",
      "Trainable params: 232,961\n",
      "Non-trainable params: 0\n",
      "_________________________________________________________________\n"
     ]
    }
   ],
   "source": [
    "# Initialise model\n",
    "\n",
    "i = Input(shape=(6,1), name='Input')\n",
    "x = Conv1D(128,6,name='Conv1D_layer')(i)\n",
    "x = TCN(nb_filters=64,\n",
    "        kernel_size=6,\n",
    "        dilations=[1, 2, 4, 8],\n",
    "        nb_stacks=1,\n",
    "        padding='causal',\n",
    "        dropout_rate=0.2,\n",
    "        activation='relu',\n",
    "        #lr=0.002,\n",
    "        name='TCN_layer')(x)\n",
    "x = Dense(32, activation='relu', name='Dense_layer' )(x)\n",
    "x = Dropout(0.2)(x)\n",
    "x = Dense(1, activation='sigmoid', name='output')(x)\n",
    "\n",
    "model = Model(inputs=[i], outputs=[x])\n",
    "model.compile('adam', 'binary_crossentropy', metrics=['accuracy', 'mse'])\n",
    "model.summary()"
   ]
  },
  {
   "cell_type": "code",
   "execution_count": 52,
   "metadata": {
    "collapsed": true
   },
   "outputs": [
    {
     "name": "stdout",
     "output_type": "stream",
     "text": [
      "Epoch 1/100\n",
      "17/17 [==============================] - 0s 9ms/step - loss: 0.6983 - accuracy: 0.5029 - mse: 0.2525\n",
      "Epoch 2/100\n",
      "17/17 [==============================] - 0s 9ms/step - loss: 0.6846 - accuracy: 0.5524 - mse: 0.2458\n",
      "Epoch 3/100\n",
      "17/17 [==============================] - 0s 10ms/step - loss: 0.6816 - accuracy: 0.5486 - mse: 0.2443\n",
      "Epoch 4/100\n",
      "17/17 [==============================] - 0s 10ms/step - loss: 0.6875 - accuracy: 0.5657 - mse: 0.2471\n",
      "Epoch 5/100\n",
      "17/17 [==============================] - 0s 8ms/step - loss: 0.6852 - accuracy: 0.5524 - mse: 0.2459\n",
      "Epoch 6/100\n",
      "17/17 [==============================] - 0s 9ms/step - loss: 0.6863 - accuracy: 0.5467 - mse: 0.2464\n",
      "Epoch 7/100\n",
      "17/17 [==============================] - 0s 8ms/step - loss: 0.6791 - accuracy: 0.5524 - mse: 0.2431\n",
      "Epoch 8/100\n",
      "17/17 [==============================] - 0s 8ms/step - loss: 0.6808 - accuracy: 0.5543 - mse: 0.2439\n",
      "Epoch 9/100\n",
      "17/17 [==============================] - 0s 10ms/step - loss: 0.6735 - accuracy: 0.5867 - mse: 0.2402\n",
      "Epoch 10/100\n",
      "17/17 [==============================] - 0s 8ms/step - loss: 0.6728 - accuracy: 0.5905 - mse: 0.2399\n",
      "Epoch 11/100\n",
      "17/17 [==============================] - 0s 8ms/step - loss: 0.6707 - accuracy: 0.5771 - mse: 0.2390\n",
      "Epoch 12/100\n",
      "17/17 [==============================] - 0s 8ms/step - loss: 0.6744 - accuracy: 0.5848 - mse: 0.2408\n",
      "Epoch 13/100\n",
      "17/17 [==============================] - 0s 9ms/step - loss: 0.6740 - accuracy: 0.5810 - mse: 0.2407\n",
      "Epoch 14/100\n",
      "17/17 [==============================] - 0s 8ms/step - loss: 0.6707 - accuracy: 0.5695 - mse: 0.2391\n",
      "Epoch 15/100\n",
      "17/17 [==============================] - 0s 13ms/step - loss: 0.6725 - accuracy: 0.5962 - mse: 0.2397\n",
      "Epoch 16/100\n",
      "17/17 [==============================] - 0s 10ms/step - loss: 0.6679 - accuracy: 0.5829 - mse: 0.2377\n",
      "Epoch 17/100\n",
      "17/17 [==============================] - 0s 10ms/step - loss: 0.6683 - accuracy: 0.6095 - mse: 0.2378\n",
      "Epoch 18/100\n",
      "17/17 [==============================] - 0s 12ms/step - loss: 0.6716 - accuracy: 0.5848 - mse: 0.2394\n",
      "Epoch 19/100\n",
      "17/17 [==============================] - 0s 10ms/step - loss: 0.6627 - accuracy: 0.6229 - mse: 0.2352\n",
      "Epoch 20/100\n",
      "17/17 [==============================] - 0s 13ms/step - loss: 0.6652 - accuracy: 0.5962 - mse: 0.2362\n",
      "Epoch 21/100\n",
      "17/17 [==============================] - 0s 10ms/step - loss: 0.6623 - accuracy: 0.6171 - mse: 0.2348\n",
      "Epoch 22/100\n",
      "17/17 [==============================] - 0s 11ms/step - loss: 0.6563 - accuracy: 0.6210 - mse: 0.2320\n",
      "Epoch 23/100\n",
      "17/17 [==============================] - 0s 11ms/step - loss: 0.6535 - accuracy: 0.6286 - mse: 0.2311\n",
      "Epoch 24/100\n",
      "17/17 [==============================] - 0s 10ms/step - loss: 0.6540 - accuracy: 0.6267 - mse: 0.2312\n",
      "Epoch 25/100\n",
      "17/17 [==============================] - 0s 14ms/step - loss: 0.6492 - accuracy: 0.6171 - mse: 0.2288\n",
      "Epoch 26/100\n",
      "17/17 [==============================] - 0s 11ms/step - loss: 0.6467 - accuracy: 0.6381 - mse: 0.2275\n",
      "Epoch 27/100\n",
      "17/17 [==============================] - 0s 10ms/step - loss: 0.6472 - accuracy: 0.6133 - mse: 0.2285\n",
      "Epoch 28/100\n",
      "17/17 [==============================] - 0s 11ms/step - loss: 0.6507 - accuracy: 0.6305 - mse: 0.2292\n",
      "Epoch 29/100\n",
      "17/17 [==============================] - 0s 10ms/step - loss: 0.6370 - accuracy: 0.6305 - mse: 0.2238\n",
      "Epoch 30/100\n",
      "17/17 [==============================] - 0s 13ms/step - loss: 0.6383 - accuracy: 0.6381 - mse: 0.2241\n",
      "Epoch 31/100\n",
      "17/17 [==============================] - 0s 11ms/step - loss: 0.6329 - accuracy: 0.6229 - mse: 0.2218\n",
      "Epoch 32/100\n",
      "17/17 [==============================] - 0s 11ms/step - loss: 0.6369 - accuracy: 0.6362 - mse: 0.2235\n",
      "Epoch 33/100\n",
      "17/17 [==============================] - 0s 10ms/step - loss: 0.6414 - accuracy: 0.6495 - mse: 0.2246\n",
      "Epoch 34/100\n",
      "17/17 [==============================] - 0s 10ms/step - loss: 0.6195 - accuracy: 0.6552 - mse: 0.2157\n",
      "Epoch 35/100\n",
      "17/17 [==============================] - 0s 13ms/step - loss: 0.6242 - accuracy: 0.6629 - mse: 0.2170\n",
      "Epoch 36/100\n",
      "17/17 [==============================] - 0s 10ms/step - loss: 0.6328 - accuracy: 0.6248 - mse: 0.2223\n",
      "Epoch 37/100\n",
      "17/17 [==============================] - 0s 11ms/step - loss: 0.6162 - accuracy: 0.6476 - mse: 0.2142\n",
      "Epoch 38/100\n",
      "17/17 [==============================] - 0s 10ms/step - loss: 0.6175 - accuracy: 0.6667 - mse: 0.2156\n",
      "Epoch 39/100\n",
      "17/17 [==============================] - 0s 10ms/step - loss: 0.5990 - accuracy: 0.6895 - mse: 0.2068\n",
      "Epoch 40/100\n",
      "17/17 [==============================] - 0s 13ms/step - loss: 0.6220 - accuracy: 0.6590 - mse: 0.2166\n",
      "Epoch 41/100\n",
      "17/17 [==============================] - 0s 10ms/step - loss: 0.5859 - accuracy: 0.6800 - mse: 0.2012\n",
      "Epoch 42/100\n",
      "17/17 [==============================] - 0s 13ms/step - loss: 0.5984 - accuracy: 0.6571 - mse: 0.2075\n",
      "Epoch 43/100\n",
      "17/17 [==============================] - 0s 11ms/step - loss: 0.5945 - accuracy: 0.6610 - mse: 0.2064\n",
      "Epoch 44/100\n",
      "17/17 [==============================] - 0s 13ms/step - loss: 0.6081 - accuracy: 0.6762 - mse: 0.2114\n",
      "Epoch 45/100\n",
      "17/17 [==============================] - 0s 10ms/step - loss: 0.5996 - accuracy: 0.6895 - mse: 0.2075\n",
      "Epoch 46/100\n",
      "17/17 [==============================] - 0s 11ms/step - loss: 0.5958 - accuracy: 0.6610 - mse: 0.2052\n",
      "Epoch 47/100\n",
      "17/17 [==============================] - 0s 11ms/step - loss: 0.5828 - accuracy: 0.6990 - mse: 0.2004\n",
      "Epoch 48/100\n",
      "17/17 [==============================] - 0s 11ms/step - loss: 0.5747 - accuracy: 0.6895 - mse: 0.1968\n",
      "Epoch 49/100\n",
      "17/17 [==============================] - 0s 14ms/step - loss: 0.5866 - accuracy: 0.6971 - mse: 0.2010\n",
      "Epoch 50/100\n",
      "17/17 [==============================] - 0s 11ms/step - loss: 0.5872 - accuracy: 0.6933 - mse: 0.2023\n",
      "Epoch 51/100\n",
      "17/17 [==============================] - 0s 10ms/step - loss: 0.5851 - accuracy: 0.6876 - mse: 0.2026\n",
      "Epoch 52/100\n",
      "17/17 [==============================] - 0s 11ms/step - loss: 0.5777 - accuracy: 0.6971 - mse: 0.1990\n",
      "Epoch 53/100\n",
      "17/17 [==============================] - 0s 10ms/step - loss: 0.5729 - accuracy: 0.6781 - mse: 0.1965\n",
      "Epoch 54/100\n",
      "17/17 [==============================] - 0s 16ms/step - loss: 0.5481 - accuracy: 0.7086 - mse: 0.1856\n",
      "Epoch 55/100\n",
      "17/17 [==============================] - 0s 11ms/step - loss: 0.5579 - accuracy: 0.7048 - mse: 0.1890\n",
      "Epoch 56/100\n",
      "17/17 [==============================] - 0s 12ms/step - loss: 0.5806 - accuracy: 0.6914 - mse: 0.1987\n",
      "Epoch 57/100\n",
      "17/17 [==============================] - 0s 10ms/step - loss: 0.5286 - accuracy: 0.7219 - mse: 0.1779\n",
      "Epoch 58/100\n",
      "17/17 [==============================] - 0s 13ms/step - loss: 0.5417 - accuracy: 0.7067 - mse: 0.1839\n",
      "Epoch 59/100\n",
      "17/17 [==============================] - 0s 11ms/step - loss: 0.5489 - accuracy: 0.6952 - mse: 0.1876\n",
      "Epoch 60/100\n",
      "17/17 [==============================] - 0s 10ms/step - loss: 0.5488 - accuracy: 0.7219 - mse: 0.1864\n",
      "Epoch 61/100\n",
      "17/17 [==============================] - 0s 11ms/step - loss: 0.5428 - accuracy: 0.7238 - mse: 0.1831\n",
      "Epoch 62/100\n",
      "17/17 [==============================] - 0s 11ms/step - loss: 0.5250 - accuracy: 0.7048 - mse: 0.1785\n",
      "Epoch 63/100\n",
      "17/17 [==============================] - 0s 15ms/step - loss: 0.5475 - accuracy: 0.7010 - mse: 0.1870\n",
      "Epoch 64/100\n",
      "17/17 [==============================] - 0s 12ms/step - loss: 0.5314 - accuracy: 0.7219 - mse: 0.1805\n",
      "Epoch 65/100\n",
      "17/17 [==============================] - 0s 13ms/step - loss: 0.5292 - accuracy: 0.7105 - mse: 0.1790\n",
      "Epoch 66/100\n",
      "17/17 [==============================] - 0s 16ms/step - loss: 0.5112 - accuracy: 0.7390 - mse: 0.1731\n",
      "Epoch 67/100\n",
      "17/17 [==============================] - 0s 17ms/step - loss: 0.5392 - accuracy: 0.7181 - mse: 0.1825\n",
      "Epoch 68/100\n",
      "17/17 [==============================] - 0s 11ms/step - loss: 0.4979 - accuracy: 0.7429 - mse: 0.1668\n",
      "Epoch 69/100\n",
      "17/17 [==============================] - 0s 10ms/step - loss: 0.4842 - accuracy: 0.7486 - mse: 0.1609\n",
      "Epoch 70/100\n",
      "17/17 [==============================] - 0s 11ms/step - loss: 0.4750 - accuracy: 0.7714 - mse: 0.1548\n",
      "Epoch 71/100\n",
      "17/17 [==============================] - 0s 16ms/step - loss: 0.5164 - accuracy: 0.7505 - mse: 0.1692\n",
      "Epoch 72/100\n",
      "17/17 [==============================] - 0s 12ms/step - loss: 0.4896 - accuracy: 0.7562 - mse: 0.1623\n",
      "Epoch 73/100\n",
      "17/17 [==============================] - 0s 11ms/step - loss: 0.5017 - accuracy: 0.7524 - mse: 0.1678\n",
      "Epoch 74/100\n",
      "17/17 [==============================] - 0s 11ms/step - loss: 0.4782 - accuracy: 0.7600 - mse: 0.1582\n",
      "Epoch 75/100\n",
      "17/17 [==============================] - 0s 10ms/step - loss: 0.4819 - accuracy: 0.7467 - mse: 0.1634\n",
      "Epoch 76/100\n",
      "17/17 [==============================] - 0s 13ms/step - loss: 0.5012 - accuracy: 0.7410 - mse: 0.1673\n",
      "Epoch 77/100\n",
      "17/17 [==============================] - 0s 10ms/step - loss: 0.4757 - accuracy: 0.7562 - mse: 0.1574\n",
      "Epoch 78/100\n",
      "17/17 [==============================] - 0s 10ms/step - loss: 0.4471 - accuracy: 0.7600 - mse: 0.1475\n",
      "Epoch 79/100\n",
      "17/17 [==============================] - 0s 11ms/step - loss: 0.4727 - accuracy: 0.7543 - mse: 0.1568\n",
      "Epoch 80/100\n",
      "17/17 [==============================] - 0s 10ms/step - loss: 0.4766 - accuracy: 0.7638 - mse: 0.1565\n",
      "Epoch 81/100\n",
      "17/17 [==============================] - 0s 13ms/step - loss: 0.4646 - accuracy: 0.7714 - mse: 0.1546\n",
      "Epoch 82/100\n",
      "17/17 [==============================] - 0s 9ms/step - loss: 0.4790 - accuracy: 0.7733 - mse: 0.1571\n",
      "Epoch 83/100\n",
      "17/17 [==============================] - 0s 9ms/step - loss: 0.4916 - accuracy: 0.7771 - mse: 0.1626\n",
      "Epoch 84/100\n",
      "17/17 [==============================] - 0s 10ms/step - loss: 0.4490 - accuracy: 0.7638 - mse: 0.1492\n",
      "Epoch 85/100\n",
      "17/17 [==============================] - 0s 9ms/step - loss: 0.4665 - accuracy: 0.7657 - mse: 0.1544\n",
      "Epoch 86/100\n",
      "17/17 [==============================] - 0s 11ms/step - loss: 0.4444 - accuracy: 0.7905 - mse: 0.1460\n",
      "Epoch 87/100\n",
      "17/17 [==============================] - 0s 9ms/step - loss: 0.4488 - accuracy: 0.7848 - mse: 0.1469\n",
      "Epoch 88/100\n",
      "17/17 [==============================] - 0s 10ms/step - loss: 0.4538 - accuracy: 0.7790 - mse: 0.1526\n",
      "Epoch 89/100\n",
      "17/17 [==============================] - 0s 11ms/step - loss: 0.4388 - accuracy: 0.7733 - mse: 0.1453\n",
      "Epoch 90/100\n",
      "17/17 [==============================] - 0s 10ms/step - loss: 0.4265 - accuracy: 0.7886 - mse: 0.1396\n",
      "Epoch 91/100\n",
      "17/17 [==============================] - 0s 10ms/step - loss: 0.3847 - accuracy: 0.8229 - mse: 0.1253\n",
      "Epoch 92/100\n",
      "17/17 [==============================] - 0s 11ms/step - loss: 0.4426 - accuracy: 0.7829 - mse: 0.1467\n",
      "Epoch 93/100\n",
      "17/17 [==============================] - 0s 9ms/step - loss: 0.4649 - accuracy: 0.7790 - mse: 0.1535\n",
      "Epoch 94/100\n",
      "17/17 [==============================] - 0s 9ms/step - loss: 0.4410 - accuracy: 0.7905 - mse: 0.1459\n",
      "Epoch 95/100\n",
      "17/17 [==============================] - 0s 10ms/step - loss: 0.4190 - accuracy: 0.7981 - mse: 0.1372\n",
      "Epoch 96/100\n",
      "17/17 [==============================] - 0s 9ms/step - loss: 0.3821 - accuracy: 0.8248 - mse: 0.1222\n",
      "Epoch 97/100\n",
      "17/17 [==============================] - 0s 14ms/step - loss: 0.4146 - accuracy: 0.8076 - mse: 0.1338\n",
      "Epoch 98/100\n",
      "17/17 [==============================] - 0s 9ms/step - loss: 0.3942 - accuracy: 0.8095 - mse: 0.1275\n",
      "Epoch 99/100\n",
      "17/17 [==============================] - 0s 11ms/step - loss: 0.3800 - accuracy: 0.8133 - mse: 0.1251\n",
      "Epoch 100/100\n",
      "17/17 [==============================] - 0s 10ms/step - loss: 0.3912 - accuracy: 0.8133 - mse: 0.1280\n"
     ]
    },
    {
     "data": {
      "text/plain": [
       "<tensorflow.python.keras.callbacks.History at 0x1c76d26d9d0>"
      ]
     },
     "execution_count": 52,
     "metadata": {},
     "output_type": "execute_result"
    }
   ],
   "source": [
    "model.fit(x_train, y_train, epochs = 100, verbose=1)"
   ]
  },
  {
   "cell_type": "code",
   "execution_count": 53,
   "metadata": {},
   "outputs": [],
   "source": [
    "?model.save"
   ]
  },
  {
   "cell_type": "code",
   "execution_count": 54,
   "metadata": {},
   "outputs": [],
   "source": [
    "pred = model.predict(x_test)\n",
    "y_pred = np.where(pred <=0.5, 0, 1)"
   ]
  },
  {
   "cell_type": "code",
   "execution_count": 57,
   "metadata": {},
   "outputs": [
    {
     "name": "stdout",
     "output_type": "stream",
     "text": [
      "accuracy_score: 0.592\n",
      "f1_score: 0.625\n"
     ]
    }
   ],
   "source": [
    "# Metrics\n",
    "pred_accuracy = accuracy_score(y_test, y_pred)\n",
    "fscore = f1_score(y_test, y_pred)\n",
    "roc_auc = roc_auc_score(y_test, y_pred)\n",
    "print('accuracy_score: %.3f' % pred_accuracy)\n",
    "print('f1_score: %.3f' % fscore)\n",
    "#print('roc_auc: %.3f' % roc_auc)"
   ]
  },
  {
   "cell_type": "markdown",
   "metadata": {},
   "source": [
    "### TCN Model on TransE Dataset"
   ]
  },
  {
   "cell_type": "code",
   "execution_count": 11,
   "metadata": {},
   "outputs": [],
   "source": [
    "# Load TransE Data\n",
    "te_complete = pd.read_csv('te_complete.csv')"
   ]
  },
  {
   "cell_type": "code",
   "execution_count": 12,
   "metadata": {},
   "outputs": [
    {
     "data": {
      "text/html": [
       "<div>\n",
       "<style scoped>\n",
       "    .dataframe tbody tr th:only-of-type {\n",
       "        vertical-align: middle;\n",
       "    }\n",
       "\n",
       "    .dataframe tbody tr th {\n",
       "        vertical-align: top;\n",
       "    }\n",
       "\n",
       "    .dataframe thead th {\n",
       "        text-align: right;\n",
       "    }\n",
       "</style>\n",
       "<table border=\"1\" class=\"dataframe\">\n",
       "  <thead>\n",
       "    <tr style=\"text-align: right;\">\n",
       "      <th></th>\n",
       "      <th>ent1PC1</th>\n",
       "      <th>ent1PC2</th>\n",
       "      <th>ent2PC1</th>\n",
       "      <th>ent2PC2</th>\n",
       "      <th>Returns</th>\n",
       "      <th>StochK</th>\n",
       "      <th>WillR</th>\n",
       "      <th>RSI</th>\n",
       "      <th>Target</th>\n",
       "    </tr>\n",
       "  </thead>\n",
       "  <tbody>\n",
       "    <tr>\n",
       "      <th>0</th>\n",
       "      <td>0.223980</td>\n",
       "      <td>0.260527</td>\n",
       "      <td>0.018174</td>\n",
       "      <td>0.220696</td>\n",
       "      <td>-0.035411</td>\n",
       "      <td>-0.016499</td>\n",
       "      <td>0.176882</td>\n",
       "      <td>0.001747</td>\n",
       "      <td>0</td>\n",
       "    </tr>\n",
       "    <tr>\n",
       "      <th>1</th>\n",
       "      <td>0.396025</td>\n",
       "      <td>0.123712</td>\n",
       "      <td>-0.033438</td>\n",
       "      <td>0.314318</td>\n",
       "      <td>-1.456557</td>\n",
       "      <td>-0.016499</td>\n",
       "      <td>0.176882</td>\n",
       "      <td>0.001747</td>\n",
       "      <td>1</td>\n",
       "    </tr>\n",
       "    <tr>\n",
       "      <th>2</th>\n",
       "      <td>-0.033738</td>\n",
       "      <td>0.145388</td>\n",
       "      <td>-0.001960</td>\n",
       "      <td>0.225625</td>\n",
       "      <td>0.650385</td>\n",
       "      <td>-0.016499</td>\n",
       "      <td>0.176882</td>\n",
       "      <td>0.001747</td>\n",
       "      <td>1</td>\n",
       "    </tr>\n",
       "    <tr>\n",
       "      <th>3</th>\n",
       "      <td>-0.061627</td>\n",
       "      <td>0.180608</td>\n",
       "      <td>0.041613</td>\n",
       "      <td>-0.137706</td>\n",
       "      <td>0.078413</td>\n",
       "      <td>-0.016499</td>\n",
       "      <td>0.176882</td>\n",
       "      <td>0.001747</td>\n",
       "      <td>0</td>\n",
       "    </tr>\n",
       "    <tr>\n",
       "      <th>4</th>\n",
       "      <td>0.147277</td>\n",
       "      <td>-0.237953</td>\n",
       "      <td>-0.321499</td>\n",
       "      <td>0.335000</td>\n",
       "      <td>-1.181554</td>\n",
       "      <td>-0.016499</td>\n",
       "      <td>0.176882</td>\n",
       "      <td>0.001747</td>\n",
       "      <td>1</td>\n",
       "    </tr>\n",
       "  </tbody>\n",
       "</table>\n",
       "</div>"
      ],
      "text/plain": [
       "    ent1PC1   ent1PC2   ent2PC1   ent2PC2   Returns    StochK     WillR  \\\n",
       "0  0.223980  0.260527  0.018174  0.220696 -0.035411 -0.016499  0.176882   \n",
       "1  0.396025  0.123712 -0.033438  0.314318 -1.456557 -0.016499  0.176882   \n",
       "2 -0.033738  0.145388 -0.001960  0.225625  0.650385 -0.016499  0.176882   \n",
       "3 -0.061627  0.180608  0.041613 -0.137706  0.078413 -0.016499  0.176882   \n",
       "4  0.147277 -0.237953 -0.321499  0.335000 -1.181554 -0.016499  0.176882   \n",
       "\n",
       "        RSI  Target  \n",
       "0  0.001747       0  \n",
       "1  0.001747       1  \n",
       "2  0.001747       1  \n",
       "3  0.001747       0  \n",
       "4  0.001747       1  "
      ]
     },
     "execution_count": 12,
     "metadata": {},
     "output_type": "execute_result"
    }
   ],
   "source": [
    "te_complete.head()"
   ]
  },
  {
   "cell_type": "code",
   "execution_count": 265,
   "metadata": {},
   "outputs": [],
   "source": [
    "# Split dataset in features (X) and labels (y)\n",
    "xt = te_complete.drop(columns = ['Target'])\n",
    "xt = np.array(xt)\n",
    "yt = np.ravel(te_complete['Target'])"
   ]
  },
  {
   "cell_type": "code",
   "execution_count": 266,
   "metadata": {},
   "outputs": [],
   "source": [
    "m = xt.reshape(xt.shape[0], xt.shape[1], 1)\n",
    "n = yt"
   ]
  },
  {
   "cell_type": "code",
   "execution_count": 267,
   "metadata": {},
   "outputs": [
    {
     "data": {
      "text/plain": [
       "((657, 8, 1), (657,))"
      ]
     },
     "execution_count": 267,
     "metadata": {},
     "output_type": "execute_result"
    }
   ],
   "source": [
    "m.shape, n.shape"
   ]
  },
  {
   "cell_type": "code",
   "execution_count": 268,
   "metadata": {},
   "outputs": [],
   "source": [
    "# Split KG into training and test sets\n",
    "xt_train, xt_test, yt_train, yt_test = train_test_split(m, n, \n",
    "                                                        test_size=0.2,\n",
    "                                                        random_state=42)"
   ]
  },
  {
   "cell_type": "code",
   "execution_count": 269,
   "metadata": {},
   "outputs": [
    {
     "data": {
      "text/plain": [
       "((525, 8, 1), (132, 8, 1), (525,), (132,))"
      ]
     },
     "execution_count": 269,
     "metadata": {},
     "output_type": "execute_result"
    }
   ],
   "source": [
    "xt_train.shape, xt_test.shape, yt_train.shape, yt_test.shape"
   ]
  },
  {
   "cell_type": "code",
   "execution_count": 322,
   "metadata": {
    "collapsed": true
   },
   "outputs": [
    {
     "name": "stdout",
     "output_type": "stream",
     "text": [
      "Model: \"functional_83\"\n",
      "_________________________________________________________________\n",
      "Layer (type)                 Output Shape              Param #   \n",
      "=================================================================\n",
      "Input (InputLayer)           [(None, 8, 1)]            0         \n",
      "_________________________________________________________________\n",
      "Conv1D_layer (Conv1D)        (None, 1, 128)            1152      \n",
      "_________________________________________________________________\n",
      "TCN_layer (TCN)              (None, 64)                229952    \n",
      "_________________________________________________________________\n",
      "Dense_layer (Dense)          (None, 32)                2080      \n",
      "_________________________________________________________________\n",
      "dropout_27 (Dropout)         (None, 32)                0         \n",
      "_________________________________________________________________\n",
      "output (Dense)               (None, 1)                 33        \n",
      "=================================================================\n",
      "Total params: 233,217\n",
      "Trainable params: 233,217\n",
      "Non-trainable params: 0\n",
      "_________________________________________________________________\n"
     ]
    }
   ],
   "source": [
    "# Initialise model\n",
    "\n",
    "it = Input(shape=(8,1), name='Input')\n",
    "xt = Conv1D(128,8,name='Conv1D_layer')(it)\n",
    "xt = TCN(nb_filters=64,\n",
    "        kernel_size=6,\n",
    "        dilations=[1, 2, 4, 8],\n",
    "        nb_stacks=1,\n",
    "        padding='causal',\n",
    "        dropout_rate=0.2,\n",
    "        activation='relu',\n",
    "        #lr=0.002,\n",
    "        name='TCN_layer')(xt)\n",
    "xt = Dense(32, activation='relu', name='Dense_layer' )(xt)\n",
    "xt = Dropout(0.2)(xt)\n",
    "xt = Dense(1, activation='sigmoid', name='output')(xt)\n",
    "\n",
    "transE_model = Model(inputs=[it], outputs=[xt])\n",
    "transE_model.compile('adam', 'binary_crossentropy', \n",
    "                     metrics=['accuracy', 'mse'])\n",
    "transE_model.summary()"
   ]
  },
  {
   "cell_type": "code",
   "execution_count": 324,
   "metadata": {
    "collapsed": true
   },
   "outputs": [
    {
     "name": "stdout",
     "output_type": "stream",
     "text": [
      "Epoch 1/100\n",
      "17/17 [==============================] - 0s 23ms/step - loss: 0.1883 - accuracy: 0.9352 - mse: 0.0507\n",
      "Epoch 2/100\n",
      "17/17 [==============================] - 0s 22ms/step - loss: 0.1936 - accuracy: 0.9219 - mse: 0.0586\n",
      "Epoch 3/100\n",
      "17/17 [==============================] - 0s 20ms/step - loss: 0.1599 - accuracy: 0.9295 - mse: 0.0477\n",
      "Epoch 4/100\n",
      "17/17 [==============================] - 0s 23ms/step - loss: 0.1285 - accuracy: 0.9448 - mse: 0.0376\n",
      "Epoch 5/100\n",
      "17/17 [==============================] - 0s 22ms/step - loss: 0.1245 - accuracy: 0.9505 - mse: 0.0364\n",
      "Epoch 6/100\n",
      "17/17 [==============================] - 0s 22ms/step - loss: 0.1792 - accuracy: 0.9352 - mse: 0.0504\n",
      "Epoch 7/100\n",
      "17/17 [==============================] - 0s 23ms/step - loss: 0.1938 - accuracy: 0.9200 - mse: 0.0585\n",
      "Epoch 8/100\n",
      "17/17 [==============================] - 0s 26ms/step - loss: 0.1716 - accuracy: 0.9295 - mse: 0.0503\n",
      "Epoch 9/100\n",
      "17/17 [==============================] - 0s 25ms/step - loss: 0.1527 - accuracy: 0.9467 - mse: 0.0450 0s - loss: 0.1539 - accuracy: 0.9453 - mse: \n",
      "Epoch 10/100\n",
      "17/17 [==============================] - 0s 23ms/step - loss: 0.1719 - accuracy: 0.9467 - mse: 0.0423\n",
      "Epoch 11/100\n",
      "17/17 [==============================] - 0s 26ms/step - loss: 0.1688 - accuracy: 0.9352 - mse: 0.0502 0s - loss: 0.1219 - accuracy: 0.9563 -\n",
      "Epoch 12/100\n",
      "17/17 [==============================] - 0s 22ms/step - loss: 0.2175 - accuracy: 0.9124 - mse: 0.0650\n",
      "Epoch 13/100\n",
      "17/17 [==============================] - 0s 23ms/step - loss: 0.1578 - accuracy: 0.9410 - mse: 0.0437\n",
      "Epoch 14/100\n",
      "17/17 [==============================] - 0s 24ms/step - loss: 0.1462 - accuracy: 0.9467 - mse: 0.0434\n",
      "Epoch 15/100\n",
      "17/17 [==============================] - 0s 26ms/step - loss: 0.1519 - accuracy: 0.9352 - mse: 0.0473\n",
      "Epoch 16/100\n",
      "17/17 [==============================] - 0s 27ms/step - loss: 0.1426 - accuracy: 0.9352 - mse: 0.0442\n",
      "Epoch 17/100\n",
      "17/17 [==============================] - 0s 25ms/step - loss: 0.1544 - accuracy: 0.9448 - mse: 0.0429\n",
      "Epoch 18/100\n",
      "17/17 [==============================] - 0s 26ms/step - loss: 0.1265 - accuracy: 0.9524 - mse: 0.0357\n",
      "Epoch 19/100\n",
      "17/17 [==============================] - 0s 26ms/step - loss: 0.1375 - accuracy: 0.9448 - mse: 0.0404\n",
      "Epoch 20/100\n",
      "17/17 [==============================] - 0s 26ms/step - loss: 0.1233 - accuracy: 0.9486 - mse: 0.0372\n",
      "Epoch 21/100\n",
      "17/17 [==============================] - 0s 21ms/step - loss: 0.1381 - accuracy: 0.9448 - mse: 0.0415\n",
      "Epoch 22/100\n",
      "17/17 [==============================] - 0s 23ms/step - loss: 0.1544 - accuracy: 0.9371 - mse: 0.0424\n",
      "Epoch 23/100\n",
      "17/17 [==============================] - 0s 23ms/step - loss: 0.1095 - accuracy: 0.9524 - mse: 0.0328\n",
      "Epoch 24/100\n",
      "17/17 [==============================] - 0s 22ms/step - loss: 0.1590 - accuracy: 0.9467 - mse: 0.0439\n",
      "Epoch 25/100\n",
      "17/17 [==============================] - 0s 22ms/step - loss: 0.2445 - accuracy: 0.9162 - mse: 0.0669\n",
      "Epoch 26/100\n",
      "17/17 [==============================] - 0s 21ms/step - loss: 0.1340 - accuracy: 0.9524 - mse: 0.0371\n",
      "Epoch 27/100\n",
      "17/17 [==============================] - 0s 24ms/step - loss: 0.1166 - accuracy: 0.9543 - mse: 0.0311\n",
      "Epoch 28/100\n",
      "17/17 [==============================] - 0s 21ms/step - loss: 0.1212 - accuracy: 0.9467 - mse: 0.0370\n",
      "Epoch 29/100\n",
      "17/17 [==============================] - 0s 22ms/step - loss: 0.1140 - accuracy: 0.9600 - mse: 0.0316\n",
      "Epoch 30/100\n",
      "17/17 [==============================] - 0s 22ms/step - loss: 0.0855 - accuracy: 0.9733 - mse: 0.0229\n",
      "Epoch 31/100\n",
      "17/17 [==============================] - 0s 21ms/step - loss: 0.0957 - accuracy: 0.9619 - mse: 0.0283\n",
      "Epoch 32/100\n",
      "17/17 [==============================] - 0s 25ms/step - loss: 0.1113 - accuracy: 0.9543 - mse: 0.0319\n",
      "Epoch 33/100\n",
      "17/17 [==============================] - 0s 21ms/step - loss: 0.1120 - accuracy: 0.9581 - mse: 0.0340\n",
      "Epoch 34/100\n",
      "17/17 [==============================] - 0s 23ms/step - loss: 0.1186 - accuracy: 0.9543 - mse: 0.0355\n",
      "Epoch 35/100\n",
      "17/17 [==============================] - 0s 23ms/step - loss: 0.1142 - accuracy: 0.9524 - mse: 0.0337\n",
      "Epoch 36/100\n",
      "17/17 [==============================] - 0s 22ms/step - loss: 0.1148 - accuracy: 0.9562 - mse: 0.0319\n",
      "Epoch 37/100\n",
      "17/17 [==============================] - 0s 24ms/step - loss: 0.1129 - accuracy: 0.9638 - mse: 0.0301\n",
      "Epoch 38/100\n",
      "17/17 [==============================] - 0s 21ms/step - loss: 0.1947 - accuracy: 0.9352 - mse: 0.0516\n",
      "Epoch 39/100\n",
      "17/17 [==============================] - 1s 32ms/step - loss: 0.1601 - accuracy: 0.9295 - mse: 0.0458 0s - loss: 0.1195 - accuracy: 0.9464 - m\n",
      "Epoch 40/100\n",
      "17/17 [==============================] - 0s 21ms/step - loss: 0.1164 - accuracy: 0.9543 - mse: 0.0328\n",
      "Epoch 41/100\n",
      "17/17 [==============================] - 0s 23ms/step - loss: 0.1178 - accuracy: 0.9467 - mse: 0.0343\n",
      "Epoch 42/100\n",
      "17/17 [==============================] - 0s 22ms/step - loss: 0.0865 - accuracy: 0.9657 - mse: 0.0250\n",
      "Epoch 43/100\n",
      "17/17 [==============================] - 0s 22ms/step - loss: 0.1081 - accuracy: 0.9562 - mse: 0.0307\n",
      "Epoch 44/100\n",
      "17/17 [==============================] - 0s 23ms/step - loss: 0.0865 - accuracy: 0.9695 - mse: 0.0251\n",
      "Epoch 45/100\n",
      "17/17 [==============================] - 0s 21ms/step - loss: 0.0781 - accuracy: 0.9695 - mse: 0.0211\n",
      "Epoch 46/100\n",
      "17/17 [==============================] - 0s 23ms/step - loss: 0.0719 - accuracy: 0.9714 - mse: 0.0205\n",
      "Epoch 47/100\n",
      "17/17 [==============================] - 0s 23ms/step - loss: 0.0890 - accuracy: 0.9638 - mse: 0.0254\n",
      "Epoch 48/100\n",
      "17/17 [==============================] - 0s 25ms/step - loss: 0.1338 - accuracy: 0.9448 - mse: 0.0414\n",
      "Epoch 49/100\n",
      "17/17 [==============================] - 1s 31ms/step - loss: 0.1092 - accuracy: 0.9657 - mse: 0.0300\n",
      "Epoch 50/100\n",
      "17/17 [==============================] - 0s 25ms/step - loss: 0.1041 - accuracy: 0.9600 - mse: 0.0285\n",
      "Epoch 51/100\n",
      "17/17 [==============================] - 0s 23ms/step - loss: 0.1278 - accuracy: 0.9600 - mse: 0.0363\n",
      "Epoch 52/100\n",
      "17/17 [==============================] - 0s 27ms/step - loss: 0.1274 - accuracy: 0.9448 - mse: 0.0372\n",
      "Epoch 53/100\n",
      "17/17 [==============================] - 0s 27ms/step - loss: 0.1224 - accuracy: 0.9505 - mse: 0.0369\n",
      "Epoch 54/100\n",
      "17/17 [==============================] - 0s 26ms/step - loss: 0.1498 - accuracy: 0.9448 - mse: 0.0418 0s - loss: 0.2225 - accuracy: 0.9062 - m\n",
      "Epoch 55/100\n",
      "17/17 [==============================] - 0s 28ms/step - loss: 0.0875 - accuracy: 0.9676 - mse: 0.0260\n",
      "Epoch 56/100\n",
      "17/17 [==============================] - 0s 26ms/step - loss: 0.1440 - accuracy: 0.9581 - mse: 0.0379\n",
      "Epoch 57/100\n",
      "17/17 [==============================] - 0s 25ms/step - loss: 0.1151 - accuracy: 0.9581 - mse: 0.0323\n",
      "Epoch 58/100\n",
      "17/17 [==============================] - 0s 21ms/step - loss: 0.1289 - accuracy: 0.9486 - mse: 0.0375\n",
      "Epoch 59/100\n",
      "17/17 [==============================] - 0s 23ms/step - loss: 0.1187 - accuracy: 0.9543 - mse: 0.0351\n",
      "Epoch 60/100\n",
      "17/17 [==============================] - 0s 22ms/step - loss: 0.1437 - accuracy: 0.9467 - mse: 0.0406\n",
      "Epoch 61/100\n",
      "17/17 [==============================] - 0s 22ms/step - loss: 0.0953 - accuracy: 0.9676 - mse: 0.0258\n",
      "Epoch 62/100\n",
      "17/17 [==============================] - 0s 21ms/step - loss: 0.0766 - accuracy: 0.9771 - mse: 0.0214\n",
      "Epoch 63/100\n",
      "17/17 [==============================] - 0s 21ms/step - loss: 0.0751 - accuracy: 0.9752 - mse: 0.0208\n",
      "Epoch 64/100\n",
      "17/17 [==============================] - 0s 26ms/step - loss: 0.0973 - accuracy: 0.9676 - mse: 0.0258\n",
      "Epoch 65/100\n",
      "17/17 [==============================] - 0s 22ms/step - loss: 0.1182 - accuracy: 0.9600 - mse: 0.0294\n",
      "Epoch 66/100\n",
      "17/17 [==============================] - 0s 23ms/step - loss: 0.0764 - accuracy: 0.9733 - mse: 0.0211\n",
      "Epoch 67/100\n",
      "17/17 [==============================] - 0s 22ms/step - loss: 0.1341 - accuracy: 0.9619 - mse: 0.0353\n",
      "Epoch 68/100\n",
      "17/17 [==============================] - 0s 23ms/step - loss: 0.0851 - accuracy: 0.9695 - mse: 0.0244\n",
      "Epoch 69/100\n",
      "17/17 [==============================] - 0s 23ms/step - loss: 0.0711 - accuracy: 0.9752 - mse: 0.0190\n",
      "Epoch 70/100\n",
      "17/17 [==============================] - 0s 21ms/step - loss: 0.0679 - accuracy: 0.9752 - mse: 0.0187\n",
      "Epoch 71/100\n",
      "17/17 [==============================] - 0s 22ms/step - loss: 0.1171 - accuracy: 0.9733 - mse: 0.0227\n",
      "Epoch 72/100\n",
      "17/17 [==============================] - 0s 21ms/step - loss: 0.1005 - accuracy: 0.9676 - mse: 0.0279\n",
      "Epoch 73/100\n",
      "17/17 [==============================] - 0s 21ms/step - loss: 0.0879 - accuracy: 0.9695 - mse: 0.0247\n",
      "Epoch 74/100\n",
      "17/17 [==============================] - 0s 21ms/step - loss: 0.1095 - accuracy: 0.9638 - mse: 0.0287\n",
      "Epoch 75/100\n",
      "17/17 [==============================] - 0s 25ms/step - loss: 0.0657 - accuracy: 0.9810 - mse: 0.0177\n",
      "Epoch 76/100\n",
      "17/17 [==============================] - 0s 22ms/step - loss: 0.0816 - accuracy: 0.9619 - mse: 0.0234\n",
      "Epoch 77/100\n",
      "17/17 [==============================] - 0s 21ms/step - loss: 0.0778 - accuracy: 0.9638 - mse: 0.0221\n",
      "Epoch 78/100\n",
      "17/17 [==============================] - 0s 21ms/step - loss: 0.0787 - accuracy: 0.9695 - mse: 0.0229\n",
      "Epoch 79/100\n",
      "17/17 [==============================] - 0s 22ms/step - loss: 0.0655 - accuracy: 0.9829 - mse: 0.0172\n",
      "Epoch 80/100\n",
      "17/17 [==============================] - 0s 21ms/step - loss: 0.0635 - accuracy: 0.9752 - mse: 0.0190\n",
      "Epoch 81/100\n",
      "17/17 [==============================] - 0s 22ms/step - loss: 0.0950 - accuracy: 0.9676 - mse: 0.0270\n",
      "Epoch 82/100\n",
      "17/17 [==============================] - 0s 22ms/step - loss: 0.0931 - accuracy: 0.9600 - mse: 0.0280\n",
      "Epoch 83/100\n",
      "17/17 [==============================] - 0s 21ms/step - loss: 0.0899 - accuracy: 0.9695 - mse: 0.0244\n",
      "Epoch 84/100\n",
      "17/17 [==============================] - 0s 22ms/step - loss: 0.1317 - accuracy: 0.9448 - mse: 0.0375\n",
      "Epoch 85/100\n",
      "17/17 [==============================] - 0s 20ms/step - loss: 0.0990 - accuracy: 0.9676 - mse: 0.0279\n",
      "Epoch 86/100\n",
      "17/17 [==============================] - 0s 21ms/step - loss: 0.0859 - accuracy: 0.9695 - mse: 0.0233\n",
      "Epoch 87/100\n",
      "17/17 [==============================] - 0s 21ms/step - loss: 0.0662 - accuracy: 0.9829 - mse: 0.0189 0s - loss: 0.0847 - accuracy: 0.9777 - mse\n",
      "Epoch 88/100\n",
      "17/17 [==============================] - 0s 22ms/step - loss: 0.0507 - accuracy: 0.9790 - mse: 0.0147\n",
      "Epoch 89/100\n",
      "17/17 [==============================] - 0s 24ms/step - loss: 0.0532 - accuracy: 0.9810 - mse: 0.0141\n",
      "Epoch 90/100\n",
      "17/17 [==============================] - 1s 30ms/step - loss: 0.0956 - accuracy: 0.9657 - mse: 0.0263\n",
      "Epoch 91/100\n",
      "17/17 [==============================] - 1s 30ms/step - loss: 0.0881 - accuracy: 0.9619 - mse: 0.0266 0s - loss: 0.0881 - accuracy: 0.9619 - mse: 0.02\n",
      "Epoch 92/100\n",
      "17/17 [==============================] - 1s 30ms/step - loss: 0.0902 - accuracy: 0.9581 - mse: 0.0274\n",
      "Epoch 93/100\n",
      "17/17 [==============================] - 0s 28ms/step - loss: 0.0942 - accuracy: 0.9695 - mse: 0.0266\n",
      "Epoch 94/100\n",
      "17/17 [==============================] - 0s 24ms/step - loss: 0.0825 - accuracy: 0.9695 - mse: 0.0226\n",
      "Epoch 95/100\n",
      "17/17 [==============================] - 0s 21ms/step - loss: 0.0646 - accuracy: 0.9714 - mse: 0.0196\n",
      "Epoch 96/100\n",
      "17/17 [==============================] - 0s 21ms/step - loss: 0.0806 - accuracy: 0.9676 - mse: 0.0249\n",
      "Epoch 97/100\n",
      "17/17 [==============================] - 0s 21ms/step - loss: 0.0819 - accuracy: 0.9714 - mse: 0.0235\n",
      "Epoch 98/100\n",
      "17/17 [==============================] - 0s 20ms/step - loss: 0.0853 - accuracy: 0.9657 - mse: 0.0237\n",
      "Epoch 99/100\n",
      "17/17 [==============================] - 0s 26ms/step - loss: 0.0607 - accuracy: 0.9771 - mse: 0.0176 0s - loss: 0.0436 - accuracy: 0.9844 -\n",
      "Epoch 100/100\n",
      "17/17 [==============================] - 0s 23ms/step - loss: 0.0431 - accuracy: 0.9829 - mse: 0.0116\n"
     ]
    },
    {
     "data": {
      "text/plain": [
       "<tensorflow.python.keras.callbacks.History at 0x11d394a8670>"
      ]
     },
     "execution_count": 324,
     "metadata": {},
     "output_type": "execute_result"
    }
   ],
   "source": [
    "transE_model.fit(xt_train, yt_train, epochs = 100, verbose=1)"
   ]
  },
  {
   "cell_type": "code",
   "execution_count": 325,
   "metadata": {},
   "outputs": [],
   "source": [
    "tpred = transE_model.predict(xt_test)\n",
    "yt_pred = np.where(tpred <=0.5, 0, 1)"
   ]
  },
  {
   "cell_type": "code",
   "execution_count": 327,
   "metadata": {},
   "outputs": [
    {
     "name": "stdout",
     "output_type": "stream",
     "text": [
      "accuracy_score: 0.608\n",
      "f1_score: 0.639\n"
     ]
    }
   ],
   "source": [
    "# Metrics\n",
    "pred_accuracy = accuracy_score(yt_test, yt_pred)\n",
    "fscore = f1_score(yt_test, yt_pred)\n",
    "roc_auc = roc_auc_score(yt_test, yt_pred)\n",
    "print('accuracy_score: %.3f' % pred_accuracy)\n",
    "print('f1_score: %.3f' % fscore)\n",
    "#print('roc_auc: %.3f' % roc_auc)"
   ]
  },
  {
   "cell_type": "markdown",
   "metadata": {},
   "source": [
    "### TCN Model on Baseline Dataset"
   ]
  },
  {
   "cell_type": "code",
   "execution_count": 62,
   "metadata": {},
   "outputs": [],
   "source": [
    "# Load baseline data\n",
    "bl_complete = pd.read_csv('bl_merged.csv')"
   ]
  },
  {
   "cell_type": "code",
   "execution_count": 63,
   "metadata": {},
   "outputs": [
    {
     "data": {
      "text/html": [
       "<div>\n",
       "<style scoped>\n",
       "    .dataframe tbody tr th:only-of-type {\n",
       "        vertical-align: middle;\n",
       "    }\n",
       "\n",
       "    .dataframe tbody tr th {\n",
       "        vertical-align: top;\n",
       "    }\n",
       "\n",
       "    .dataframe thead th {\n",
       "        text-align: right;\n",
       "    }\n",
       "</style>\n",
       "<table border=\"1\" class=\"dataframe\">\n",
       "  <thead>\n",
       "    <tr style=\"text-align: right;\">\n",
       "      <th></th>\n",
       "      <th>Returns</th>\n",
       "      <th>StochK</th>\n",
       "      <th>WillR</th>\n",
       "      <th>RSI</th>\n",
       "      <th>Target</th>\n",
       "    </tr>\n",
       "  </thead>\n",
       "  <tbody>\n",
       "    <tr>\n",
       "      <th>0</th>\n",
       "      <td>-0.035411</td>\n",
       "      <td>-0.016499</td>\n",
       "      <td>0.176882</td>\n",
       "      <td>0.001747</td>\n",
       "      <td>0</td>\n",
       "    </tr>\n",
       "    <tr>\n",
       "      <th>1</th>\n",
       "      <td>-1.456557</td>\n",
       "      <td>-0.016499</td>\n",
       "      <td>0.176882</td>\n",
       "      <td>0.001747</td>\n",
       "      <td>1</td>\n",
       "    </tr>\n",
       "    <tr>\n",
       "      <th>2</th>\n",
       "      <td>0.650385</td>\n",
       "      <td>-0.016499</td>\n",
       "      <td>0.176882</td>\n",
       "      <td>0.001747</td>\n",
       "      <td>1</td>\n",
       "    </tr>\n",
       "    <tr>\n",
       "      <th>3</th>\n",
       "      <td>0.078413</td>\n",
       "      <td>-0.016499</td>\n",
       "      <td>0.176882</td>\n",
       "      <td>0.001747</td>\n",
       "      <td>0</td>\n",
       "    </tr>\n",
       "    <tr>\n",
       "      <th>4</th>\n",
       "      <td>-1.181554</td>\n",
       "      <td>-0.016499</td>\n",
       "      <td>0.176882</td>\n",
       "      <td>0.001747</td>\n",
       "      <td>1</td>\n",
       "    </tr>\n",
       "  </tbody>\n",
       "</table>\n",
       "</div>"
      ],
      "text/plain": [
       "    Returns    StochK     WillR       RSI  Target\n",
       "0 -0.035411 -0.016499  0.176882  0.001747       0\n",
       "1 -1.456557 -0.016499  0.176882  0.001747       1\n",
       "2  0.650385 -0.016499  0.176882  0.001747       1\n",
       "3  0.078413 -0.016499  0.176882  0.001747       0\n",
       "4 -1.181554 -0.016499  0.176882  0.001747       1"
      ]
     },
     "execution_count": 63,
     "metadata": {},
     "output_type": "execute_result"
    }
   ],
   "source": [
    "bl_complete.head()"
   ]
  },
  {
   "cell_type": "code",
   "execution_count": 64,
   "metadata": {},
   "outputs": [],
   "source": [
    "# Split dataset in features (X) and labels (y)\n",
    "xb = bl_complete.drop(columns = ['Target'])\n",
    "xb = np.array(xb)\n",
    "yb = np.ravel(te_complete['Target'])"
   ]
  },
  {
   "cell_type": "code",
   "execution_count": 65,
   "metadata": {},
   "outputs": [],
   "source": [
    "u = xb.reshape(xb.shape[0], xb.shape[1], 1)\n",
    "v = yb"
   ]
  },
  {
   "cell_type": "code",
   "execution_count": 66,
   "metadata": {},
   "outputs": [
    {
     "data": {
      "text/plain": [
       "((657, 4, 1), (657,))"
      ]
     },
     "execution_count": 66,
     "metadata": {},
     "output_type": "execute_result"
    }
   ],
   "source": [
    "u.shape, v.shape"
   ]
  },
  {
   "cell_type": "code",
   "execution_count": 67,
   "metadata": {},
   "outputs": [],
   "source": [
    "# Split KG into training and test sets\n",
    "xb_train, xb_test, yb_train, yb_test = train_test_split(u, v, \n",
    "                                                        test_size=0.2,\n",
    "                                                        random_state=42)"
   ]
  },
  {
   "cell_type": "code",
   "execution_count": 68,
   "metadata": {},
   "outputs": [
    {
     "data": {
      "text/plain": [
       "((525, 4, 1), (132, 4, 1), (525,), (132,))"
      ]
     },
     "execution_count": 68,
     "metadata": {},
     "output_type": "execute_result"
    }
   ],
   "source": [
    "xb_train.shape, xb_test.shape, yb_train.shape, yb_test.shape"
   ]
  },
  {
   "cell_type": "code",
   "execution_count": 69,
   "metadata": {
    "collapsed": true
   },
   "outputs": [
    {
     "name": "stdout",
     "output_type": "stream",
     "text": [
      "Model: \"functional_3\"\n",
      "_________________________________________________________________\n",
      "Layer (type)                 Output Shape              Param #   \n",
      "=================================================================\n",
      "Input (InputLayer)           [(None, 4, 1)]            0         \n",
      "_________________________________________________________________\n",
      "Conv1D_layer (Conv1D)        (None, 1, 128)            640       \n",
      "_________________________________________________________________\n",
      "TCN_layer (TCN)              (None, 64)                229952    \n",
      "_________________________________________________________________\n",
      "Dense_layer (Dense)          (None, 32)                2080      \n",
      "_________________________________________________________________\n",
      "dropout_1 (Dropout)          (None, 32)                0         \n",
      "_________________________________________________________________\n",
      "output (Dense)               (None, 1)                 33        \n",
      "=================================================================\n",
      "Total params: 232,705\n",
      "Trainable params: 232,705\n",
      "Non-trainable params: 0\n",
      "_________________________________________________________________\n"
     ]
    }
   ],
   "source": [
    "# Initialise baseline model\n",
    "\n",
    "ib = Input(shape=(4,1), name='Input')\n",
    "xb = Conv1D(128,4,name='Conv1D_layer')(ib)\n",
    "xb = TCN(nb_filters=64,\n",
    "        kernel_size=6,\n",
    "        dilations=[1, 2, 4, 8],\n",
    "        nb_stacks=1,\n",
    "        padding='causal',\n",
    "        dropout_rate=0.2,\n",
    "        activation='relu',\n",
    "        #lr=0.002,\n",
    "        name='TCN_layer')(xb)\n",
    "xb = Dense(32, activation='relu', name='Dense_layer' )(xb)\n",
    "xb = Dropout(0.2)(xb)\n",
    "xb = Dense(1, activation='sigmoid', name='output')(xb)\n",
    "\n",
    "bl_model = Model(inputs=[ib], outputs=[xb])\n",
    "bl_model.compile('adam', 'binary_crossentropy', \n",
    "                     metrics=['accuracy', 'mse'])\n",
    "bl_model.summary()"
   ]
  },
  {
   "cell_type": "code",
   "execution_count": 70,
   "metadata": {
    "collapsed": true
   },
   "outputs": [
    {
     "name": "stdout",
     "output_type": "stream",
     "text": [
      "Epoch 1/100\n",
      "17/17 [==============================] - 0s 8ms/step - loss: 0.6933 - accuracy: 0.5467 - mse: 0.2498\n",
      "Epoch 2/100\n",
      "17/17 [==============================] - 0s 8ms/step - loss: 0.6858 - accuracy: 0.5352 - mse: 0.2461\n",
      "Epoch 3/100\n",
      "17/17 [==============================] - 0s 8ms/step - loss: 0.6828 - accuracy: 0.5848 - mse: 0.2448\n",
      "Epoch 4/100\n",
      "17/17 [==============================] - 0s 9ms/step - loss: 0.6841 - accuracy: 0.5562 - mse: 0.2455\n",
      "Epoch 5/100\n",
      "17/17 [==============================] - 0s 8ms/step - loss: 0.6786 - accuracy: 0.5543 - mse: 0.2429\n",
      "Epoch 6/100\n",
      "17/17 [==============================] - 0s 8ms/step - loss: 0.6771 - accuracy: 0.5829 - mse: 0.2421\n",
      "Epoch 7/100\n",
      "17/17 [==============================] - 0s 11ms/step - loss: 0.6785 - accuracy: 0.5505 - mse: 0.2428\n",
      "Epoch 8/100\n",
      "17/17 [==============================] - 0s 8ms/step - loss: 0.6777 - accuracy: 0.5848 - mse: 0.2421\n",
      "Epoch 9/100\n",
      "17/17 [==============================] - 0s 8ms/step - loss: 0.6868 - accuracy: 0.5600 - mse: 0.2468\n",
      "Epoch 10/100\n",
      "17/17 [==============================] - 0s 8ms/step - loss: 0.6723 - accuracy: 0.6190 - mse: 0.2397\n",
      "Epoch 11/100\n",
      "17/17 [==============================] - 0s 9ms/step - loss: 0.6755 - accuracy: 0.5924 - mse: 0.2413\n",
      "Epoch 12/100\n",
      "17/17 [==============================] - 0s 10ms/step - loss: 0.6720 - accuracy: 0.5733 - mse: 0.2396\n",
      "Epoch 13/100\n",
      "17/17 [==============================] - 0s 14ms/step - loss: 0.6682 - accuracy: 0.5829 - mse: 0.2379\n",
      "Epoch 14/100\n",
      "17/17 [==============================] - 0s 10ms/step - loss: 0.6701 - accuracy: 0.5886 - mse: 0.2388\n",
      "Epoch 15/100\n",
      "17/17 [==============================] - 0s 11ms/step - loss: 0.6728 - accuracy: 0.5752 - mse: 0.2402\n",
      "Epoch 16/100\n",
      "17/17 [==============================] - 0s 10ms/step - loss: 0.6690 - accuracy: 0.5943 - mse: 0.2383\n",
      "Epoch 17/100\n",
      "17/17 [==============================] - 0s 10ms/step - loss: 0.6666 - accuracy: 0.5981 - mse: 0.2372\n",
      "Epoch 18/100\n",
      "17/17 [==============================] - 0s 13ms/step - loss: 0.6667 - accuracy: 0.6000 - mse: 0.2370\n",
      "Epoch 19/100\n",
      "17/17 [==============================] - 0s 10ms/step - loss: 0.6692 - accuracy: 0.6057 - mse: 0.2381\n",
      "Epoch 20/100\n",
      "17/17 [==============================] - 0s 11ms/step - loss: 0.6692 - accuracy: 0.6114 - mse: 0.2382\n",
      "Epoch 21/100\n",
      "17/17 [==============================] - 0s 11ms/step - loss: 0.6659 - accuracy: 0.5924 - mse: 0.2366\n",
      "Epoch 22/100\n",
      "17/17 [==============================] - 0s 10ms/step - loss: 0.6612 - accuracy: 0.6171 - mse: 0.2343\n",
      "Epoch 23/100\n",
      "17/17 [==============================] - 0s 13ms/step - loss: 0.6618 - accuracy: 0.6019 - mse: 0.2349\n",
      "Epoch 24/100\n",
      "17/17 [==============================] - 0s 11ms/step - loss: 0.6653 - accuracy: 0.6019 - mse: 0.2367\n",
      "Epoch 25/100\n",
      "17/17 [==============================] - 0s 11ms/step - loss: 0.6564 - accuracy: 0.6267 - mse: 0.2319\n",
      "Epoch 26/100\n",
      "17/17 [==============================] - 0s 10ms/step - loss: 0.6655 - accuracy: 0.6190 - mse: 0.2367\n",
      "Epoch 27/100\n",
      "17/17 [==============================] - 0s 9ms/step - loss: 0.6617 - accuracy: 0.6133 - mse: 0.2347\n",
      "Epoch 28/100\n",
      "17/17 [==============================] - 0s 11ms/step - loss: 0.6607 - accuracy: 0.6152 - mse: 0.2343\n",
      "Epoch 29/100\n",
      "17/17 [==============================] - 0s 9ms/step - loss: 0.6607 - accuracy: 0.6229 - mse: 0.2342\n",
      "Epoch 30/100\n",
      "17/17 [==============================] - 0s 9ms/step - loss: 0.6586 - accuracy: 0.6210 - mse: 0.2334\n",
      "Epoch 31/100\n",
      "17/17 [==============================] - 0s 10ms/step - loss: 0.6627 - accuracy: 0.5981 - mse: 0.2354\n",
      "Epoch 32/100\n",
      "17/17 [==============================] - 0s 9ms/step - loss: 0.6502 - accuracy: 0.6324 - mse: 0.2293\n",
      "Epoch 33/100\n",
      "17/17 [==============================] - 0s 11ms/step - loss: 0.6587 - accuracy: 0.6286 - mse: 0.2333\n",
      "Epoch 34/100\n",
      "17/17 [==============================] - 0s 9ms/step - loss: 0.6441 - accuracy: 0.6324 - mse: 0.2267\n",
      "Epoch 35/100\n",
      "17/17 [==============================] - 0s 9ms/step - loss: 0.6489 - accuracy: 0.6248 - mse: 0.2293\n",
      "Epoch 36/100\n",
      "17/17 [==============================] - 0s 10ms/step - loss: 0.6501 - accuracy: 0.6152 - mse: 0.2296\n",
      "Epoch 37/100\n",
      "17/17 [==============================] - 0s 12ms/step - loss: 0.6453 - accuracy: 0.6133 - mse: 0.2273\n",
      "Epoch 38/100\n",
      "17/17 [==============================] - 0s 16ms/step - loss: 0.6481 - accuracy: 0.5981 - mse: 0.2286\n",
      "Epoch 39/100\n",
      "17/17 [==============================] - 0s 12ms/step - loss: 0.6406 - accuracy: 0.6248 - mse: 0.2253\n",
      "Epoch 40/100\n",
      "17/17 [==============================] - 0s 11ms/step - loss: 0.6329 - accuracy: 0.6476 - mse: 0.2218\n",
      "Epoch 41/100\n",
      "17/17 [==============================] - 0s 12ms/step - loss: 0.6314 - accuracy: 0.6229 - mse: 0.2221\n",
      "Epoch 42/100\n",
      "17/17 [==============================] - 0s 10ms/step - loss: 0.6384 - accuracy: 0.6324 - mse: 0.2240\n",
      "Epoch 43/100\n",
      "17/17 [==============================] - 0s 14ms/step - loss: 0.6266 - accuracy: 0.6362 - mse: 0.2195\n",
      "Epoch 44/100\n",
      "17/17 [==============================] - 0s 11ms/step - loss: 0.6361 - accuracy: 0.6419 - mse: 0.2239\n",
      "Epoch 45/100\n",
      "17/17 [==============================] - 0s 11ms/step - loss: 0.6288 - accuracy: 0.6629 - mse: 0.2200\n",
      "Epoch 46/100\n",
      "17/17 [==============================] - 0s 10ms/step - loss: 0.6310 - accuracy: 0.6381 - mse: 0.2211\n",
      "Epoch 47/100\n",
      "17/17 [==============================] - 0s 12ms/step - loss: 0.6339 - accuracy: 0.6400 - mse: 0.2229\n",
      "Epoch 48/100\n",
      "17/17 [==============================] - 0s 12ms/step - loss: 0.6139 - accuracy: 0.6629 - mse: 0.2137\n",
      "Epoch 49/100\n",
      "17/17 [==============================] - 0s 10ms/step - loss: 0.6234 - accuracy: 0.6457 - mse: 0.2181\n",
      "Epoch 50/100\n",
      "17/17 [==============================] - 0s 11ms/step - loss: 0.6153 - accuracy: 0.6533 - mse: 0.2139\n",
      "Epoch 51/100\n",
      "17/17 [==============================] - 0s 10ms/step - loss: 0.6206 - accuracy: 0.6476 - mse: 0.2173\n",
      "Epoch 52/100\n",
      "17/17 [==============================] - 0s 14ms/step - loss: 0.6144 - accuracy: 0.6590 - mse: 0.2146\n",
      "Epoch 53/100\n",
      "17/17 [==============================] - 0s 11ms/step - loss: 0.6079 - accuracy: 0.6629 - mse: 0.2120\n",
      "Epoch 54/100\n",
      "17/17 [==============================] - 0s 11ms/step - loss: 0.5942 - accuracy: 0.6724 - mse: 0.2063\n",
      "Epoch 55/100\n",
      "17/17 [==============================] - 0s 12ms/step - loss: 0.6183 - accuracy: 0.6476 - mse: 0.2163\n",
      "Epoch 56/100\n",
      "17/17 [==============================] - 0s 11ms/step - loss: 0.6208 - accuracy: 0.6476 - mse: 0.2177\n",
      "Epoch 57/100\n",
      "17/17 [==============================] - 0s 15ms/step - loss: 0.6101 - accuracy: 0.6724 - mse: 0.2128\n",
      "Epoch 58/100\n",
      "17/17 [==============================] - 0s 11ms/step - loss: 0.5969 - accuracy: 0.6762 - mse: 0.2069\n",
      "Epoch 59/100\n",
      "17/17 [==============================] - 0s 11ms/step - loss: 0.5881 - accuracy: 0.7029 - mse: 0.2031\n",
      "Epoch 60/100\n",
      "17/17 [==============================] - 0s 11ms/step - loss: 0.5980 - accuracy: 0.6724 - mse: 0.2083\n",
      "Epoch 61/100\n",
      "17/17 [==============================] - 0s 14ms/step - loss: 0.6067 - accuracy: 0.6743 - mse: 0.2113\n",
      "Epoch 62/100\n",
      "17/17 [==============================] - 0s 10ms/step - loss: 0.5933 - accuracy: 0.6838 - mse: 0.2062\n",
      "Epoch 63/100\n",
      "17/17 [==============================] - 0s 11ms/step - loss: 0.5984 - accuracy: 0.6724 - mse: 0.2069\n",
      "Epoch 64/100\n",
      "17/17 [==============================] - 0s 11ms/step - loss: 0.5924 - accuracy: 0.6914 - mse: 0.2051\n",
      "Epoch 65/100\n",
      "17/17 [==============================] - 0s 12ms/step - loss: 0.5806 - accuracy: 0.6933 - mse: 0.2000\n",
      "Epoch 66/100\n",
      "17/17 [==============================] - 0s 15ms/step - loss: 0.5729 - accuracy: 0.6971 - mse: 0.1977\n",
      "Epoch 67/100\n",
      "17/17 [==============================] - 0s 13ms/step - loss: 0.5837 - accuracy: 0.6800 - mse: 0.2026\n",
      "Epoch 68/100\n",
      "17/17 [==============================] - 0s 12ms/step - loss: 0.5854 - accuracy: 0.6610 - mse: 0.2042\n",
      "Epoch 69/100\n",
      "17/17 [==============================] - 0s 11ms/step - loss: 0.6031 - accuracy: 0.6705 - mse: 0.2096\n",
      "Epoch 70/100\n",
      "17/17 [==============================] - 0s 14ms/step - loss: 0.5920 - accuracy: 0.6800 - mse: 0.2047\n",
      "Epoch 71/100\n",
      "17/17 [==============================] - 0s 11ms/step - loss: 0.5849 - accuracy: 0.6819 - mse: 0.2025\n",
      "Epoch 72/100\n",
      "17/17 [==============================] - 0s 11ms/step - loss: 0.5863 - accuracy: 0.6667 - mse: 0.2032\n",
      "Epoch 73/100\n",
      "17/17 [==============================] - 0s 10ms/step - loss: 0.5630 - accuracy: 0.6952 - mse: 0.1938\n",
      "Epoch 74/100\n",
      "17/17 [==============================] - 0s 9ms/step - loss: 0.5713 - accuracy: 0.6952 - mse: 0.1965\n",
      "Epoch 75/100\n",
      "17/17 [==============================] - 0s 13ms/step - loss: 0.5688 - accuracy: 0.7029 - mse: 0.1943\n",
      "Epoch 76/100\n",
      "17/17 [==============================] - 0s 9ms/step - loss: 0.5819 - accuracy: 0.6857 - mse: 0.2003\n",
      "Epoch 77/100\n",
      "17/17 [==============================] - 0s 9ms/step - loss: 0.5638 - accuracy: 0.7295 - mse: 0.1926\n",
      "Epoch 78/100\n",
      "17/17 [==============================] - 0s 10ms/step - loss: 0.5602 - accuracy: 0.6990 - mse: 0.1926\n",
      "Epoch 79/100\n",
      "17/17 [==============================] - 0s 10ms/step - loss: 0.5616 - accuracy: 0.7181 - mse: 0.1910\n",
      "Epoch 80/100\n",
      "17/17 [==============================] - 0s 11ms/step - loss: 0.5584 - accuracy: 0.6895 - mse: 0.1918\n",
      "Epoch 81/100\n",
      "17/17 [==============================] - 0s 12ms/step - loss: 0.5607 - accuracy: 0.7029 - mse: 0.1937\n",
      "Epoch 82/100\n",
      "17/17 [==============================] - 0s 9ms/step - loss: 0.5513 - accuracy: 0.7105 - mse: 0.1886\n",
      "Epoch 83/100\n",
      "17/17 [==============================] - 0s 9ms/step - loss: 0.5643 - accuracy: 0.7086 - mse: 0.1929\n",
      "Epoch 84/100\n",
      "17/17 [==============================] - 0s 9ms/step - loss: 0.5696 - accuracy: 0.6857 - mse: 0.1972\n",
      "Epoch 85/100\n",
      "17/17 [==============================] - 0s 9ms/step - loss: 0.5491 - accuracy: 0.7105 - mse: 0.1875\n",
      "Epoch 86/100\n",
      "17/17 [==============================] - 0s 13ms/step - loss: 0.5546 - accuracy: 0.7219 - mse: 0.1906\n",
      "Epoch 87/100\n",
      "17/17 [==============================] - 0s 9ms/step - loss: 0.5522 - accuracy: 0.7048 - mse: 0.1899\n",
      "Epoch 88/100\n",
      "17/17 [==============================] - 0s 9ms/step - loss: 0.5389 - accuracy: 0.7124 - mse: 0.1833\n",
      "Epoch 89/100\n",
      "17/17 [==============================] - 0s 10ms/step - loss: 0.5619 - accuracy: 0.6857 - mse: 0.1939\n",
      "Epoch 90/100\n",
      "17/17 [==============================] - 0s 9ms/step - loss: 0.5310 - accuracy: 0.7143 - mse: 0.1813\n",
      "Epoch 91/100\n",
      "17/17 [==============================] - 0s 12ms/step - loss: 0.5321 - accuracy: 0.7314 - mse: 0.1798 0s - loss: 0.5295 - accuracy: 0.7324 - mse: 0.17\n",
      "Epoch 92/100\n",
      "17/17 [==============================] - 0s 10ms/step - loss: 0.5465 - accuracy: 0.7048 - mse: 0.1869\n",
      "Epoch 93/100\n",
      "17/17 [==============================] - 0s 9ms/step - loss: 0.5289 - accuracy: 0.7333 - mse: 0.1807\n",
      "Epoch 94/100\n",
      "17/17 [==============================] - 0s 10ms/step - loss: 0.5410 - accuracy: 0.7276 - mse: 0.1845\n",
      "Epoch 95/100\n",
      "17/17 [==============================] - 0s 9ms/step - loss: 0.5504 - accuracy: 0.6933 - mse: 0.1869\n",
      "Epoch 96/100\n",
      "17/17 [==============================] - 0s 10ms/step - loss: 0.5401 - accuracy: 0.7276 - mse: 0.1847\n",
      "Epoch 97/100\n",
      "17/17 [==============================] - 0s 13ms/step - loss: 0.5460 - accuracy: 0.7162 - mse: 0.1852\n",
      "Epoch 98/100\n",
      "17/17 [==============================] - 0s 9ms/step - loss: 0.5310 - accuracy: 0.7143 - mse: 0.1817\n",
      "Epoch 99/100\n",
      "17/17 [==============================] - 0s 10ms/step - loss: 0.4944 - accuracy: 0.7429 - mse: 0.1650\n",
      "Epoch 100/100\n",
      "17/17 [==============================] - 0s 10ms/step - loss: 0.5389 - accuracy: 0.6971 - mse: 0.1852\n"
     ]
    },
    {
     "data": {
      "text/plain": [
       "<tensorflow.python.keras.callbacks.History at 0x1c76c922e50>"
      ]
     },
     "execution_count": 70,
     "metadata": {},
     "output_type": "execute_result"
    }
   ],
   "source": [
    "bl_model.fit(xb_train, yb_train, epochs = 100, verbose=1)"
   ]
  },
  {
   "cell_type": "code",
   "execution_count": 71,
   "metadata": {},
   "outputs": [],
   "source": [
    "bpred = bl_model.predict(xb_test)\n",
    "yb_pred = np.where(bpred <=0.5, 0, 1)"
   ]
  },
  {
   "cell_type": "code",
   "execution_count": 75,
   "metadata": {},
   "outputs": [
    {
     "name": "stdout",
     "output_type": "stream",
     "text": [
      "accuracy_score: 0.607\n",
      "f1_score: 0.600\n"
     ]
    }
   ],
   "source": [
    "# Metrics\n",
    "bpred_accuracy = accuracy_score(yb_test, yb_pred)\n",
    "bfscore = f1_score(yb_test, yb_pred)\n",
    "broc_auc = roc_auc_score(yb_test, yb_pred)\n",
    "print('accuracy_score: %.3f' % bpred_accuracy)\n",
    "print('f1_score: %.3f' % bfscore)\n",
    "#print('roc_auc: %.3f' % broc_auc)"
   ]
  }
 ],
 "metadata": {
  "kernelspec": {
   "display_name": "Python 3",
   "language": "python",
   "name": "python3"
  },
  "language_info": {
   "codemirror_mode": {
    "name": "ipython",
    "version": 3
   },
   "file_extension": ".py",
   "mimetype": "text/x-python",
   "name": "python",
   "nbconvert_exporter": "python",
   "pygments_lexer": "ipython3",
   "version": "3.8.3"
  }
 },
 "nbformat": 4,
 "nbformat_minor": 4
}
